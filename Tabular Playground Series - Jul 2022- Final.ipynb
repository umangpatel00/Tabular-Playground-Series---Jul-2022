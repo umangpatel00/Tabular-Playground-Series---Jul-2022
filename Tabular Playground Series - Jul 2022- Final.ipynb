{
 "cells": [
  {
   "cell_type": "code",
   "execution_count": 1,
   "id": "cba7f35a",
   "metadata": {},
   "outputs": [],
   "source": [
    "import numpy as np\n",
    "import pandas as pd\n",
    "import matplotlib.pyplot as plt\n",
    "import seaborn as sns\n",
    "%matplotlib inline"
   ]
  },
  {
   "cell_type": "code",
   "execution_count": 2,
   "id": "746bc837",
   "metadata": {},
   "outputs": [],
   "source": [
    "train = pd.read_csv('data.csv')"
   ]
  },
  {
   "cell_type": "code",
   "execution_count": 3,
   "id": "b7fdbfb0",
   "metadata": {
    "scrolled": true
   },
   "outputs": [
    {
     "data": {
      "text/plain": [
       "(98000, 30)"
      ]
     },
     "execution_count": 3,
     "metadata": {},
     "output_type": "execute_result"
    }
   ],
   "source": [
    "train.shape"
   ]
  },
  {
   "cell_type": "code",
   "execution_count": 4,
   "id": "009e9fc0",
   "metadata": {},
   "outputs": [
    {
     "data": {
      "text/html": [
       "<div>\n",
       "<style scoped>\n",
       "    .dataframe tbody tr th:only-of-type {\n",
       "        vertical-align: middle;\n",
       "    }\n",
       "\n",
       "    .dataframe tbody tr th {\n",
       "        vertical-align: top;\n",
       "    }\n",
       "\n",
       "    .dataframe thead th {\n",
       "        text-align: right;\n",
       "    }\n",
       "</style>\n",
       "<table border=\"1\" class=\"dataframe\">\n",
       "  <thead>\n",
       "    <tr style=\"text-align: right;\">\n",
       "      <th></th>\n",
       "      <th>id</th>\n",
       "      <th>f_00</th>\n",
       "      <th>f_01</th>\n",
       "      <th>f_02</th>\n",
       "      <th>f_03</th>\n",
       "      <th>f_04</th>\n",
       "      <th>f_05</th>\n",
       "      <th>f_06</th>\n",
       "      <th>f_07</th>\n",
       "      <th>f_08</th>\n",
       "      <th>...</th>\n",
       "      <th>f_19</th>\n",
       "      <th>f_20</th>\n",
       "      <th>f_21</th>\n",
       "      <th>f_22</th>\n",
       "      <th>f_23</th>\n",
       "      <th>f_24</th>\n",
       "      <th>f_25</th>\n",
       "      <th>f_26</th>\n",
       "      <th>f_27</th>\n",
       "      <th>f_28</th>\n",
       "    </tr>\n",
       "  </thead>\n",
       "  <tbody>\n",
       "    <tr>\n",
       "      <th>0</th>\n",
       "      <td>0</td>\n",
       "      <td>-0.389420</td>\n",
       "      <td>-0.912791</td>\n",
       "      <td>0.648951</td>\n",
       "      <td>0.589045</td>\n",
       "      <td>-0.830817</td>\n",
       "      <td>0.733624</td>\n",
       "      <td>2.258560</td>\n",
       "      <td>2</td>\n",
       "      <td>13</td>\n",
       "      <td>...</td>\n",
       "      <td>-0.478412</td>\n",
       "      <td>-0.757002</td>\n",
       "      <td>-0.763635</td>\n",
       "      <td>-1.090369</td>\n",
       "      <td>1.142641</td>\n",
       "      <td>-0.884274</td>\n",
       "      <td>1.137896</td>\n",
       "      <td>1.309073</td>\n",
       "      <td>1.463002</td>\n",
       "      <td>0.813527</td>\n",
       "    </tr>\n",
       "    <tr>\n",
       "      <th>1</th>\n",
       "      <td>1</td>\n",
       "      <td>-0.689249</td>\n",
       "      <td>-0.453954</td>\n",
       "      <td>0.654175</td>\n",
       "      <td>0.995248</td>\n",
       "      <td>-1.653020</td>\n",
       "      <td>0.863810</td>\n",
       "      <td>-0.090651</td>\n",
       "      <td>2</td>\n",
       "      <td>3</td>\n",
       "      <td>...</td>\n",
       "      <td>-0.428791</td>\n",
       "      <td>-0.089908</td>\n",
       "      <td>-1.784204</td>\n",
       "      <td>-0.839474</td>\n",
       "      <td>0.459685</td>\n",
       "      <td>1.759412</td>\n",
       "      <td>-0.275422</td>\n",
       "      <td>-0.852168</td>\n",
       "      <td>0.562457</td>\n",
       "      <td>-2.680541</td>\n",
       "    </tr>\n",
       "    <tr>\n",
       "      <th>2</th>\n",
       "      <td>2</td>\n",
       "      <td>0.809079</td>\n",
       "      <td>0.324568</td>\n",
       "      <td>-1.170602</td>\n",
       "      <td>-0.624491</td>\n",
       "      <td>0.105448</td>\n",
       "      <td>0.783948</td>\n",
       "      <td>1.988301</td>\n",
       "      <td>5</td>\n",
       "      <td>11</td>\n",
       "      <td>...</td>\n",
       "      <td>-0.413534</td>\n",
       "      <td>-1.602377</td>\n",
       "      <td>1.190984</td>\n",
       "      <td>3.267116</td>\n",
       "      <td>-0.088322</td>\n",
       "      <td>-2.168635</td>\n",
       "      <td>-0.974989</td>\n",
       "      <td>1.335763</td>\n",
       "      <td>-1.110655</td>\n",
       "      <td>-3.630723</td>\n",
       "    </tr>\n",
       "    <tr>\n",
       "      <th>3</th>\n",
       "      <td>3</td>\n",
       "      <td>-0.500923</td>\n",
       "      <td>0.229049</td>\n",
       "      <td>0.264109</td>\n",
       "      <td>0.231520</td>\n",
       "      <td>0.415012</td>\n",
       "      <td>-1.221269</td>\n",
       "      <td>0.138850</td>\n",
       "      <td>6</td>\n",
       "      <td>2</td>\n",
       "      <td>...</td>\n",
       "      <td>0.619283</td>\n",
       "      <td>1.287801</td>\n",
       "      <td>0.532837</td>\n",
       "      <td>1.036631</td>\n",
       "      <td>-2.041828</td>\n",
       "      <td>1.440490</td>\n",
       "      <td>-1.900191</td>\n",
       "      <td>-0.630771</td>\n",
       "      <td>-0.050641</td>\n",
       "      <td>0.238333</td>\n",
       "    </tr>\n",
       "    <tr>\n",
       "      <th>4</th>\n",
       "      <td>4</td>\n",
       "      <td>-0.671268</td>\n",
       "      <td>-1.039533</td>\n",
       "      <td>-0.270155</td>\n",
       "      <td>-1.830264</td>\n",
       "      <td>-0.290108</td>\n",
       "      <td>-1.852809</td>\n",
       "      <td>0.781898</td>\n",
       "      <td>8</td>\n",
       "      <td>7</td>\n",
       "      <td>...</td>\n",
       "      <td>-1.628830</td>\n",
       "      <td>-0.434948</td>\n",
       "      <td>0.322505</td>\n",
       "      <td>0.284326</td>\n",
       "      <td>-2.438365</td>\n",
       "      <td>1.473930</td>\n",
       "      <td>-1.044684</td>\n",
       "      <td>1.602686</td>\n",
       "      <td>-0.405263</td>\n",
       "      <td>-1.987263</td>\n",
       "    </tr>\n",
       "  </tbody>\n",
       "</table>\n",
       "<p>5 rows × 30 columns</p>\n",
       "</div>"
      ],
      "text/plain": [
       "   id      f_00      f_01      f_02      f_03      f_04      f_05      f_06  \\\n",
       "0   0 -0.389420 -0.912791  0.648951  0.589045 -0.830817  0.733624  2.258560   \n",
       "1   1 -0.689249 -0.453954  0.654175  0.995248 -1.653020  0.863810 -0.090651   \n",
       "2   2  0.809079  0.324568 -1.170602 -0.624491  0.105448  0.783948  1.988301   \n",
       "3   3 -0.500923  0.229049  0.264109  0.231520  0.415012 -1.221269  0.138850   \n",
       "4   4 -0.671268 -1.039533 -0.270155 -1.830264 -0.290108 -1.852809  0.781898   \n",
       "\n",
       "   f_07  f_08  ...      f_19      f_20      f_21      f_22      f_23  \\\n",
       "0     2    13  ... -0.478412 -0.757002 -0.763635 -1.090369  1.142641   \n",
       "1     2     3  ... -0.428791 -0.089908 -1.784204 -0.839474  0.459685   \n",
       "2     5    11  ... -0.413534 -1.602377  1.190984  3.267116 -0.088322   \n",
       "3     6     2  ...  0.619283  1.287801  0.532837  1.036631 -2.041828   \n",
       "4     8     7  ... -1.628830 -0.434948  0.322505  0.284326 -2.438365   \n",
       "\n",
       "       f_24      f_25      f_26      f_27      f_28  \n",
       "0 -0.884274  1.137896  1.309073  1.463002  0.813527  \n",
       "1  1.759412 -0.275422 -0.852168  0.562457 -2.680541  \n",
       "2 -2.168635 -0.974989  1.335763 -1.110655 -3.630723  \n",
       "3  1.440490 -1.900191 -0.630771 -0.050641  0.238333  \n",
       "4  1.473930 -1.044684  1.602686 -0.405263 -1.987263  \n",
       "\n",
       "[5 rows x 30 columns]"
      ]
     },
     "execution_count": 4,
     "metadata": {},
     "output_type": "execute_result"
    }
   ],
   "source": [
    "train.head()"
   ]
  },
  {
   "cell_type": "code",
   "execution_count": 5,
   "id": "48889842",
   "metadata": {},
   "outputs": [],
   "source": [
    "train_id = train['id']"
   ]
  },
  {
   "cell_type": "code",
   "execution_count": 6,
   "id": "c399be31",
   "metadata": {},
   "outputs": [],
   "source": [
    "train.drop('id',axis=1,inplace=True)"
   ]
  },
  {
   "cell_type": "code",
   "execution_count": 7,
   "id": "ba7cce3f",
   "metadata": {},
   "outputs": [
    {
     "data": {
      "text/plain": [
       "(98000, 29)"
      ]
     },
     "execution_count": 7,
     "metadata": {},
     "output_type": "execute_result"
    }
   ],
   "source": [
    "train.shape"
   ]
  },
  {
   "cell_type": "markdown",
   "id": "c4d03063",
   "metadata": {},
   "source": [
    "## EDA"
   ]
  },
  {
   "cell_type": "markdown",
   "id": "1ec91f7d",
   "metadata": {},
   "source": [
    "#### Numerical feature"
   ]
  },
  {
   "cell_type": "code",
   "execution_count": 8,
   "id": "db4e4fd6",
   "metadata": {},
   "outputs": [],
   "source": [
    "num_feature = [feature for feature in train.columns if train[feature].dtype != 'o']"
   ]
  },
  {
   "cell_type": "code",
   "execution_count": 9,
   "id": "6845654a",
   "metadata": {},
   "outputs": [
    {
     "name": "stdout",
     "output_type": "stream",
     "text": [
      "Number of Numerical features: 29\n"
     ]
    }
   ],
   "source": [
    "print('Number of Numerical features:' ,len(num_feature))"
   ]
  },
  {
   "cell_type": "code",
   "execution_count": 10,
   "id": "6f84c43d",
   "metadata": {},
   "outputs": [
    {
     "name": "stdout",
     "output_type": "stream",
     "text": [
      "Number of Discrete features: 7\n"
     ]
    }
   ],
   "source": [
    "#Discrete numerical features\n",
    "disc_num_feature = [feature for feature in num_feature if len(train[feature].unique())<100]\n",
    "\n",
    "print('Number of Discrete features:',len(disc_num_feature))"
   ]
  },
  {
   "cell_type": "code",
   "execution_count": 11,
   "id": "4eb33c9e",
   "metadata": {},
   "outputs": [
    {
     "data": {
      "image/png": "[encoded data removed]",
      "text/plain": [
       "<Figure size 432x288 with 1 Axes>"
      ]
     },
     "metadata": {
      "needs_background": "light"
     },
     "output_type": "display_data"
    },
    {
     "data": {
      "image/png": "[encoded data removed]",
      "text/plain": [
       "<Figure size 432x288 with 1 Axes>"
      ]
     },
     "metadata": {
      "needs_background": "light"
     },
     "output_type": "display_data"
    },
    {
     "data": {
      "image/png": "[encoded data removed]",
      "text/plain": [
       "<Figure size 432x288 with 1 Axes>"
      ]
     },
     "metadata": {
      "needs_background": "light"
     },
     "output_type": "display_data"
    },
    {
     "data": {
      "image/png": "[encoded data removed]",
      "text/plain": [
       "<Figure size 432x288 with 1 Axes>"
      ]
     },
     "metadata": {
      "needs_background": "light"
     },
     "output_type": "display_data"
    },
    {
     "data": {
      "image/png": "[encoded data removed]",
      "text/plain": [
       "<Figure size 432x288 with 1 Axes>"
      ]
     },
     "metadata": {
      "needs_background": "light"
     },
     "output_type": "display_data"
    },
    {
     "data": {
      "image/png": "[encoded data removed]",
      "text/plain": [
       "<Figure size 432x288 with 1 Axes>"
      ]
     },
     "metadata": {
      "needs_background": "light"
     },
     "output_type": "display_data"
    },
    {
     "data": {
      "image/png": "[encoded data removed]",
      "text/plain": [
       "<Figure size 432x288 with 1 Axes>"
      ]
     },
     "metadata": {
      "needs_background": "light"
     },
     "output_type": "display_data"
    }
   ],
   "source": [
    "for feature in disc_num_feature:\n",
    "    data = train.copy()\n",
    "    data[feature].hist()\n",
    "    plt.title(feature)\n",
    "    plt.show()"
   ]
  },
  {
   "cell_type": "code",
   "execution_count": 12,
   "id": "e6c655f6",
   "metadata": {},
   "outputs": [
    {
     "name": "stdout",
     "output_type": "stream",
     "text": [
      "Number of Continuous features:  22\n"
     ]
    }
   ],
   "source": [
    "#continuous numerical features\n",
    "\n",
    "cont_num_feature = [feature for feature in num_feature if feature not in disc_num_feature]\n",
    "\n",
    "print(\"Number of Continuous features: \",len(cont_num_feature))"
   ]
  },
  {
   "cell_type": "code",
   "execution_count": 13,
   "id": "78b52087",
   "metadata": {},
   "outputs": [
    {
     "data": {
      "image/png": "[encoded data removed]",
      "text/plain": [
       "<Figure size 432x288 with 1 Axes>"
      ]
     },
     "metadata": {
      "needs_background": "light"
     },
     "output_type": "display_data"
    },
    {
     "data": {
      "image/png": "[encoded data removed]",
      "text/plain": [
       "<Figure size 432x288 with 1 Axes>"
      ]
     },
     "metadata": {
      "needs_background": "light"
     },
     "output_type": "display_data"
    },
    {
     "data": {
      "image/png": "[encoded data removed]",
      "text/plain": [
       "<Figure size 432x288 with 1 Axes>"
      ]
     },
     "metadata": {
      "needs_background": "light"
     },
     "output_type": "display_data"
    },
    {
     "data": {
      "image/png": "[encoded data removed]",
      "text/plain": [
       "<Figure size 432x288 with 1 Axes>"
      ]
     },
     "metadata": {
      "needs_background": "light"
     },
     "output_type": "display_data"
    },
    {
     "data": {
      "image/png": "[encoded data removed]",
      "text/plain": [
       "<Figure size 432x288 with 1 Axes>"
      ]
     },
     "metadata": {
      "needs_background": "light"
     },
     "output_type": "display_data"
    },
    {
     "data": {
      "image/png": "[encoded data removed]",
      "text/plain": [
       "<Figure size 432x288 with 1 Axes>"
      ]
     },
     "metadata": {
      "needs_background": "light"
     },
     "output_type": "display_data"
    },
    {
     "data": {
      "image/png": "[encoded data removed]",
      "text/plain": [
       "<Figure size 432x288 with 1 Axes>"
      ]
     },
     "metadata": {
      "needs_background": "light"
     },
     "output_type": "display_data"
    },
    {
     "data": {
      "image/png": "[encoded data removed]",
      "text/plain": [
       "<Figure size 432x288 with 1 Axes>"
      ]
     },
     "metadata": {
      "needs_background": "light"
     },
     "output_type": "display_data"
    },
    {
     "data": {
      "image/png": "[encoded data removed]",
      "text/plain": [
       "<Figure size 432x288 with 1 Axes>"
      ]
     },
     "metadata": {
      "needs_background": "light"
     },
     "output_type": "display_data"
    },
    {
     "data": {
      "image/png": "[encoded data removed]",
      "text/plain": [
       "<Figure size 432x288 with 1 Axes>"
      ]
     },
     "metadata": {
      "needs_background": "light"
     },
     "output_type": "display_data"
    },
    {
     "data": {
      "image/png": "[encoded data removed]",
      "text/plain": [
       "<Figure size 432x288 with 1 Axes>"
      ]
     },
     "metadata": {
      "needs_background": "light"
     },
     "output_type": "display_data"
    },
    {
     "data": {
      "image/png": "[encoded data removed]",
      "text/plain": [
       "<Figure size 432x288 with 1 Axes>"
      ]
     },
     "metadata": {
      "needs_background": "light"
     },
     "output_type": "display_data"
    },
    {
     "data": {
      "image/png": "[encoded data removed]",
      "text/plain": [
       "<Figure size 432x288 with 1 Axes>"
      ]
     },
     "metadata": {
      "needs_background": "light"
     },
     "output_type": "display_data"
    },
    {
     "data": {
      "image/png": "[encoded data removed]",
      "text/plain": [
       "<Figure size 432x288 with 1 Axes>"
      ]
     },
     "metadata": {
      "needs_background": "light"
     },
     "output_type": "display_data"
    },
    {
     "data": {
      "image/png": "[encoded data removed]",
      "text/plain": [
       "<Figure size 432x288 with 1 Axes>"
      ]
     },
     "metadata": {
      "needs_background": "light"
     },
     "output_type": "display_data"
    },
    {
     "data": {
      "image/png": "[encoded data removed]",
      "text/plain": [
       "<Figure size 432x288 with 1 Axes>"
      ]
     },
     "metadata": {
      "needs_background": "light"
     },
     "output_type": "display_data"
    },
    {
     "data": {
      "image/png": "[encoded data removed]",
      "text/plain": [
       "<Figure size 432x288 with 1 Axes>"
      ]
     },
     "metadata": {
      "needs_background": "light"
     },
     "output_type": "display_data"
    },
    {
     "data": {
      "image/png": "[encoded data removed]",
      "text/plain": [
       "<Figure size 432x288 with 1 Axes>"
      ]
     },
     "metadata": {
      "needs_background": "light"
     },
     "output_type": "display_data"
    },
    {
     "data": {
      "image/png": "[encoded data removed]",
      "text/plain": [
       "<Figure size 432x288 with 1 Axes>"
      ]
     },
     "metadata": {
      "needs_background": "light"
     },
     "output_type": "display_data"
    },
    {
     "data": {
      "image/png": "[encoded data removed]",
      "text/plain": [
       "<Figure size 432x288 with 1 Axes>"
      ]
     },
     "metadata": {
      "needs_background": "light"
     },
     "output_type": "display_data"
    },
    {
     "data": {
      "image/png": "[encoded data removed]",
      "text/plain": [
       "<Figure size 432x288 with 1 Axes>"
      ]
     },
     "metadata": {
      "needs_background": "light"
     },
     "output_type": "display_data"
    },
    {
     "data": {
      "image/png": "[encoded data removed]",
      "text/plain": [
       "<Figure size 432x288 with 1 Axes>"
      ]
     },
     "metadata": {
      "needs_background": "light"
     },
     "output_type": "display_data"
    }
   ],
   "source": [
    "for feature in cont_num_feature:\n",
    "    data = train.copy()\n",
    "    data[feature].hist()\n",
    "    plt.title(feature)\n",
    "    plt.show()"
   ]
  },
  {
   "cell_type": "code",
   "execution_count": null,
   "id": "09b5d87d",
   "metadata": {},
   "outputs": [],
   "source": []
  },
  {
   "cell_type": "markdown",
   "id": "53f6cf16",
   "metadata": {},
   "source": [
    "## Feature engineering"
   ]
  },
  {
   "cell_type": "code",
   "execution_count": 14,
   "id": "75364f02",
   "metadata": {
    "scrolled": true
   },
   "outputs": [
    {
     "data": {
      "text/plain": [
       "0"
      ]
     },
     "execution_count": 14,
     "metadata": {},
     "output_type": "execute_result"
    }
   ],
   "source": [
    "sum(train.isna().sum())"
   ]
  },
  {
   "cell_type": "markdown",
   "id": "3ec63353",
   "metadata": {},
   "source": [
    "### Create test variable as copy of train because we are going to remove outlier"
   ]
  },
  {
   "cell_type": "code",
   "execution_count": 15,
   "id": "2bacce92",
   "metadata": {},
   "outputs": [],
   "source": [
    "test = train.copy()"
   ]
  },
  {
   "cell_type": "markdown",
   "id": "c30468ba",
   "metadata": {},
   "source": [
    "## Outlier Removing"
   ]
  },
  {
   "cell_type": "markdown",
   "id": "332112cc",
   "metadata": {},
   "source": [
    "#### Handling Rare values in discrete numerical features"
   ]
  },
  {
   "cell_type": "code",
   "execution_count": 16,
   "id": "16f2d82b",
   "metadata": {},
   "outputs": [
    {
     "data": {
      "text/html": [
       "<div>\n",
       "<style scoped>\n",
       "    .dataframe tbody tr th:only-of-type {\n",
       "        vertical-align: middle;\n",
       "    }\n",
       "\n",
       "    .dataframe tbody tr th {\n",
       "        vertical-align: top;\n",
       "    }\n",
       "\n",
       "    .dataframe thead th {\n",
       "        text-align: right;\n",
       "    }\n",
       "</style>\n",
       "<table border=\"1\" class=\"dataframe\">\n",
       "  <thead>\n",
       "    <tr style=\"text-align: right;\">\n",
       "      <th></th>\n",
       "      <th>f_00</th>\n",
       "      <th>f_01</th>\n",
       "      <th>f_02</th>\n",
       "      <th>f_03</th>\n",
       "      <th>f_04</th>\n",
       "      <th>f_05</th>\n",
       "      <th>f_06</th>\n",
       "      <th>f_07</th>\n",
       "      <th>f_08</th>\n",
       "      <th>f_09</th>\n",
       "      <th>...</th>\n",
       "      <th>f_19</th>\n",
       "      <th>f_20</th>\n",
       "      <th>f_21</th>\n",
       "      <th>f_22</th>\n",
       "      <th>f_23</th>\n",
       "      <th>f_24</th>\n",
       "      <th>f_25</th>\n",
       "      <th>f_26</th>\n",
       "      <th>f_27</th>\n",
       "      <th>f_28</th>\n",
       "    </tr>\n",
       "  </thead>\n",
       "  <tbody>\n",
       "    <tr>\n",
       "      <th>0</th>\n",
       "      <td>-0.389420</td>\n",
       "      <td>-0.912791</td>\n",
       "      <td>0.648951</td>\n",
       "      <td>0.589045</td>\n",
       "      <td>-0.830817</td>\n",
       "      <td>0.733624</td>\n",
       "      <td>2.258560</td>\n",
       "      <td>2</td>\n",
       "      <td>13</td>\n",
       "      <td>14</td>\n",
       "      <td>...</td>\n",
       "      <td>-0.478412</td>\n",
       "      <td>-0.757002</td>\n",
       "      <td>-0.763635</td>\n",
       "      <td>-1.090369</td>\n",
       "      <td>1.142641</td>\n",
       "      <td>-0.884274</td>\n",
       "      <td>1.137896</td>\n",
       "      <td>1.309073</td>\n",
       "      <td>1.463002</td>\n",
       "      <td>0.813527</td>\n",
       "    </tr>\n",
       "    <tr>\n",
       "      <th>1</th>\n",
       "      <td>-0.689249</td>\n",
       "      <td>-0.453954</td>\n",
       "      <td>0.654175</td>\n",
       "      <td>0.995248</td>\n",
       "      <td>-1.653020</td>\n",
       "      <td>0.863810</td>\n",
       "      <td>-0.090651</td>\n",
       "      <td>2</td>\n",
       "      <td>3</td>\n",
       "      <td>6</td>\n",
       "      <td>...</td>\n",
       "      <td>-0.428791</td>\n",
       "      <td>-0.089908</td>\n",
       "      <td>-1.784204</td>\n",
       "      <td>-0.839474</td>\n",
       "      <td>0.459685</td>\n",
       "      <td>1.759412</td>\n",
       "      <td>-0.275422</td>\n",
       "      <td>-0.852168</td>\n",
       "      <td>0.562457</td>\n",
       "      <td>-2.680541</td>\n",
       "    </tr>\n",
       "    <tr>\n",
       "      <th>2</th>\n",
       "      <td>0.809079</td>\n",
       "      <td>0.324568</td>\n",
       "      <td>-1.170602</td>\n",
       "      <td>-0.624491</td>\n",
       "      <td>0.105448</td>\n",
       "      <td>0.783948</td>\n",
       "      <td>1.988301</td>\n",
       "      <td>5</td>\n",
       "      <td>11</td>\n",
       "      <td>5</td>\n",
       "      <td>...</td>\n",
       "      <td>-0.413534</td>\n",
       "      <td>-1.602377</td>\n",
       "      <td>1.190984</td>\n",
       "      <td>3.267116</td>\n",
       "      <td>-0.088322</td>\n",
       "      <td>-2.168635</td>\n",
       "      <td>-0.974989</td>\n",
       "      <td>1.335763</td>\n",
       "      <td>-1.110655</td>\n",
       "      <td>-3.630723</td>\n",
       "    </tr>\n",
       "    <tr>\n",
       "      <th>3</th>\n",
       "      <td>-0.500923</td>\n",
       "      <td>0.229049</td>\n",
       "      <td>0.264109</td>\n",
       "      <td>0.231520</td>\n",
       "      <td>0.415012</td>\n",
       "      <td>-1.221269</td>\n",
       "      <td>0.138850</td>\n",
       "      <td>6</td>\n",
       "      <td>2</td>\n",
       "      <td>13</td>\n",
       "      <td>...</td>\n",
       "      <td>0.619283</td>\n",
       "      <td>1.287801</td>\n",
       "      <td>0.532837</td>\n",
       "      <td>1.036631</td>\n",
       "      <td>-2.041828</td>\n",
       "      <td>1.440490</td>\n",
       "      <td>-1.900191</td>\n",
       "      <td>-0.630771</td>\n",
       "      <td>-0.050641</td>\n",
       "      <td>0.238333</td>\n",
       "    </tr>\n",
       "    <tr>\n",
       "      <th>4</th>\n",
       "      <td>-0.671268</td>\n",
       "      <td>-1.039533</td>\n",
       "      <td>-0.270155</td>\n",
       "      <td>-1.830264</td>\n",
       "      <td>-0.290108</td>\n",
       "      <td>-1.852809</td>\n",
       "      <td>0.781898</td>\n",
       "      <td>8</td>\n",
       "      <td>7</td>\n",
       "      <td>5</td>\n",
       "      <td>...</td>\n",
       "      <td>-1.628830</td>\n",
       "      <td>-0.434948</td>\n",
       "      <td>0.322505</td>\n",
       "      <td>0.284326</td>\n",
       "      <td>-2.438365</td>\n",
       "      <td>1.473930</td>\n",
       "      <td>-1.044684</td>\n",
       "      <td>1.602686</td>\n",
       "      <td>-0.405263</td>\n",
       "      <td>-1.987263</td>\n",
       "    </tr>\n",
       "    <tr>\n",
       "      <th>...</th>\n",
       "      <td>...</td>\n",
       "      <td>...</td>\n",
       "      <td>...</td>\n",
       "      <td>...</td>\n",
       "      <td>...</td>\n",
       "      <td>...</td>\n",
       "      <td>...</td>\n",
       "      <td>...</td>\n",
       "      <td>...</td>\n",
       "      <td>...</td>\n",
       "      <td>...</td>\n",
       "      <td>...</td>\n",
       "      <td>...</td>\n",
       "      <td>...</td>\n",
       "      <td>...</td>\n",
       "      <td>...</td>\n",
       "      <td>...</td>\n",
       "      <td>...</td>\n",
       "      <td>...</td>\n",
       "      <td>...</td>\n",
       "      <td>...</td>\n",
       "    </tr>\n",
       "    <tr>\n",
       "      <th>97995</th>\n",
       "      <td>0.237591</td>\n",
       "      <td>1.657034</td>\n",
       "      <td>-0.689282</td>\n",
       "      <td>0.313710</td>\n",
       "      <td>-0.299039</td>\n",
       "      <td>0.329139</td>\n",
       "      <td>1.607378</td>\n",
       "      <td>5</td>\n",
       "      <td>7</td>\n",
       "      <td>8</td>\n",
       "      <td>...</td>\n",
       "      <td>-0.290116</td>\n",
       "      <td>-0.258141</td>\n",
       "      <td>-0.973640</td>\n",
       "      <td>1.369508</td>\n",
       "      <td>0.391055</td>\n",
       "      <td>2.152426</td>\n",
       "      <td>-0.208944</td>\n",
       "      <td>-1.475403</td>\n",
       "      <td>0.298448</td>\n",
       "      <td>0.445039</td>\n",
       "    </tr>\n",
       "    <tr>\n",
       "      <th>97996</th>\n",
       "      <td>0.322696</td>\n",
       "      <td>0.710411</td>\n",
       "      <td>0.562625</td>\n",
       "      <td>-1.321713</td>\n",
       "      <td>-0.357708</td>\n",
       "      <td>0.182024</td>\n",
       "      <td>0.178558</td>\n",
       "      <td>3</td>\n",
       "      <td>9</td>\n",
       "      <td>2</td>\n",
       "      <td>...</td>\n",
       "      <td>0.117687</td>\n",
       "      <td>1.388242</td>\n",
       "      <td>0.342400</td>\n",
       "      <td>1.680537</td>\n",
       "      <td>-0.860409</td>\n",
       "      <td>0.579165</td>\n",
       "      <td>1.162692</td>\n",
       "      <td>0.134994</td>\n",
       "      <td>0.994666</td>\n",
       "      <td>0.727642</td>\n",
       "    </tr>\n",
       "    <tr>\n",
       "      <th>97997</th>\n",
       "      <td>-0.249364</td>\n",
       "      <td>-0.459545</td>\n",
       "      <td>1.886122</td>\n",
       "      <td>-1.340310</td>\n",
       "      <td>0.195029</td>\n",
       "      <td>-0.559520</td>\n",
       "      <td>-0.379767</td>\n",
       "      <td>8</td>\n",
       "      <td>9</td>\n",
       "      <td>10</td>\n",
       "      <td>...</td>\n",
       "      <td>-0.850223</td>\n",
       "      <td>-1.787648</td>\n",
       "      <td>-1.268115</td>\n",
       "      <td>-1.508330</td>\n",
       "      <td>1.945622</td>\n",
       "      <td>1.503645</td>\n",
       "      <td>0.194968</td>\n",
       "      <td>2.142693</td>\n",
       "      <td>1.646042</td>\n",
       "      <td>0.641466</td>\n",
       "    </tr>\n",
       "    <tr>\n",
       "      <th>97998</th>\n",
       "      <td>0.311408</td>\n",
       "      <td>2.185237</td>\n",
       "      <td>0.761367</td>\n",
       "      <td>0.436723</td>\n",
       "      <td>0.464967</td>\n",
       "      <td>0.062321</td>\n",
       "      <td>-0.334025</td>\n",
       "      <td>1</td>\n",
       "      <td>8</td>\n",
       "      <td>11</td>\n",
       "      <td>...</td>\n",
       "      <td>-0.010839</td>\n",
       "      <td>1.118906</td>\n",
       "      <td>1.565765</td>\n",
       "      <td>0.358480</td>\n",
       "      <td>0.547615</td>\n",
       "      <td>1.224439</td>\n",
       "      <td>-0.537998</td>\n",
       "      <td>-1.610954</td>\n",
       "      <td>-0.616227</td>\n",
       "      <td>-0.066211</td>\n",
       "    </tr>\n",
       "    <tr>\n",
       "      <th>97999</th>\n",
       "      <td>0.755170</td>\n",
       "      <td>0.567483</td>\n",
       "      <td>1.456767</td>\n",
       "      <td>-0.579071</td>\n",
       "      <td>-0.048474</td>\n",
       "      <td>-1.206240</td>\n",
       "      <td>0.784305</td>\n",
       "      <td>0</td>\n",
       "      <td>11</td>\n",
       "      <td>3</td>\n",
       "      <td>...</td>\n",
       "      <td>1.180805</td>\n",
       "      <td>-0.925705</td>\n",
       "      <td>-1.368680</td>\n",
       "      <td>-2.465425</td>\n",
       "      <td>1.453582</td>\n",
       "      <td>-1.685122</td>\n",
       "      <td>0.129689</td>\n",
       "      <td>-0.970897</td>\n",
       "      <td>1.404988</td>\n",
       "      <td>-0.711098</td>\n",
       "    </tr>\n",
       "  </tbody>\n",
       "</table>\n",
       "<p>98000 rows × 29 columns</p>\n",
       "</div>"
      ],
      "text/plain": [
       "           f_00      f_01      f_02      f_03      f_04      f_05      f_06  \\\n",
       "0     -0.389420 -0.912791  0.648951  0.589045 -0.830817  0.733624  2.258560   \n",
       "1     -0.689249 -0.453954  0.654175  0.995248 -1.653020  0.863810 -0.090651   \n",
       "2      0.809079  0.324568 -1.170602 -0.624491  0.105448  0.783948  1.988301   \n",
       "3     -0.500923  0.229049  0.264109  0.231520  0.415012 -1.221269  0.138850   \n",
       "4     -0.671268 -1.039533 -0.270155 -1.830264 -0.290108 -1.852809  0.781898   \n",
       "...         ...       ...       ...       ...       ...       ...       ...   \n",
       "97995  0.237591  1.657034 -0.689282  0.313710 -0.299039  0.329139  1.607378   \n",
       "97996  0.322696  0.710411  0.562625 -1.321713 -0.357708  0.182024  0.178558   \n",
       "97997 -0.249364 -0.459545  1.886122 -1.340310  0.195029 -0.559520 -0.379767   \n",
       "97998  0.311408  2.185237  0.761367  0.436723  0.464967  0.062321 -0.334025   \n",
       "97999  0.755170  0.567483  1.456767 -0.579071 -0.048474 -1.206240  0.784305   \n",
       "\n",
       "       f_07  f_08  f_09  ...      f_19      f_20      f_21      f_22  \\\n",
       "0         2    13    14  ... -0.478412 -0.757002 -0.763635 -1.090369   \n",
       "1         2     3     6  ... -0.428791 -0.089908 -1.784204 -0.839474   \n",
       "2         5    11     5  ... -0.413534 -1.602377  1.190984  3.267116   \n",
       "3         6     2    13  ...  0.619283  1.287801  0.532837  1.036631   \n",
       "4         8     7     5  ... -1.628830 -0.434948  0.322505  0.284326   \n",
       "...     ...   ...   ...  ...       ...       ...       ...       ...   \n",
       "97995     5     7     8  ... -0.290116 -0.258141 -0.973640  1.369508   \n",
       "97996     3     9     2  ...  0.117687  1.388242  0.342400  1.680537   \n",
       "97997     8     9    10  ... -0.850223 -1.787648 -1.268115 -1.508330   \n",
       "97998     1     8    11  ... -0.010839  1.118906  1.565765  0.358480   \n",
       "97999     0    11     3  ...  1.180805 -0.925705 -1.368680 -2.465425   \n",
       "\n",
       "           f_23      f_24      f_25      f_26      f_27      f_28  \n",
       "0      1.142641 -0.884274  1.137896  1.309073  1.463002  0.813527  \n",
       "1      0.459685  1.759412 -0.275422 -0.852168  0.562457 -2.680541  \n",
       "2     -0.088322 -2.168635 -0.974989  1.335763 -1.110655 -3.630723  \n",
       "3     -2.041828  1.440490 -1.900191 -0.630771 -0.050641  0.238333  \n",
       "4     -2.438365  1.473930 -1.044684  1.602686 -0.405263 -1.987263  \n",
       "...         ...       ...       ...       ...       ...       ...  \n",
       "97995  0.391055  2.152426 -0.208944 -1.475403  0.298448  0.445039  \n",
       "97996 -0.860409  0.579165  1.162692  0.134994  0.994666  0.727642  \n",
       "97997  1.945622  1.503645  0.194968  2.142693  1.646042  0.641466  \n",
       "97998  0.547615  1.224439 -0.537998 -1.610954 -0.616227 -0.066211  \n",
       "97999  1.453582 -1.685122  0.129689 -0.970897  1.404988 -0.711098  \n",
       "\n",
       "[98000 rows x 29 columns]"
      ]
     },
     "execution_count": 16,
     "metadata": {},
     "output_type": "execute_result"
    }
   ],
   "source": [
    "train"
   ]
  },
  {
   "cell_type": "code",
   "execution_count": 17,
   "id": "20b2b337",
   "metadata": {},
   "outputs": [
    {
     "data": {
      "text/plain": [
       "4     10797\n",
       "3     10728\n",
       "5     10337\n",
       "2      9861\n",
       "6      9239\n",
       "7      8197\n",
       "1      7574\n",
       "8      6743\n",
       "9      5428\n",
       "0      4717\n",
       "10     4275\n",
       "11     3182\n",
       "12     2252\n",
       "13     1633\n",
       "14     1143\n",
       "15      706\n",
       "16      440\n",
       "17      273\n",
       "18      198\n",
       "19      108\n",
       "20       70\n",
       "21       35\n",
       "22       31\n",
       "23       10\n",
       "25        7\n",
       "24        7\n",
       "26        2\n",
       "29        2\n",
       "27        2\n",
       "30        1\n",
       "28        1\n",
       "32        1\n",
       "Name: f_07, dtype: int64"
      ]
     },
     "execution_count": 17,
     "metadata": {},
     "output_type": "execute_result"
    }
   ],
   "source": [
    "train['f_07'].value_counts()"
   ]
  },
  {
   "cell_type": "markdown",
   "id": "f441f671",
   "metadata": {},
   "source": [
    "#### Handling Outlier in continuous numerical features"
   ]
  },
  {
   "cell_type": "code",
   "execution_count": 18,
   "id": "70e3ee02",
   "metadata": {},
   "outputs": [
    {
     "data": {
      "text/plain": [
       "['f_00',\n",
       " 'f_01',\n",
       " 'f_02',\n",
       " 'f_03',\n",
       " 'f_04',\n",
       " 'f_05',\n",
       " 'f_06',\n",
       " 'f_14',\n",
       " 'f_15',\n",
       " 'f_16',\n",
       " 'f_17',\n",
       " 'f_18',\n",
       " 'f_19',\n",
       " 'f_20',\n",
       " 'f_21',\n",
       " 'f_22',\n",
       " 'f_23',\n",
       " 'f_24',\n",
       " 'f_25',\n",
       " 'f_26',\n",
       " 'f_27',\n",
       " 'f_28']"
      ]
     },
     "execution_count": 18,
     "metadata": {},
     "output_type": "execute_result"
    }
   ],
   "source": [
    "cont_num_feature"
   ]
  },
  {
   "cell_type": "code",
   "execution_count": 19,
   "id": "037d265e",
   "metadata": {},
   "outputs": [],
   "source": [
    "#Using Power transform on data to make distribution as Gausion like\n",
    "from sklearn.preprocessing import PowerTransformer"
   ]
  },
  {
   "cell_type": "code",
   "execution_count": 20,
   "id": "26d8f5eb",
   "metadata": {},
   "outputs": [],
   "source": [
    "pow_scaler = PowerTransformer()"
   ]
  },
  {
   "cell_type": "code",
   "execution_count": 21,
   "id": "d495b0c3",
   "metadata": {},
   "outputs": [],
   "source": [
    "train[num_feature] = pow_scaler.fit_transform(train[num_feature])"
   ]
  },
  {
   "cell_type": "code",
   "execution_count": 22,
   "id": "24e1c590",
   "metadata": {},
   "outputs": [
    {
     "data": {
      "text/html": [
       "<div>\n",
       "<style scoped>\n",
       "    .dataframe tbody tr th:only-of-type {\n",
       "        vertical-align: middle;\n",
       "    }\n",
       "\n",
       "    .dataframe tbody tr th {\n",
       "        vertical-align: top;\n",
       "    }\n",
       "\n",
       "    .dataframe thead th {\n",
       "        text-align: right;\n",
       "    }\n",
       "</style>\n",
       "<table border=\"1\" class=\"dataframe\">\n",
       "  <thead>\n",
       "    <tr style=\"text-align: right;\">\n",
       "      <th></th>\n",
       "      <th>f_00</th>\n",
       "      <th>f_01</th>\n",
       "      <th>f_02</th>\n",
       "      <th>f_03</th>\n",
       "      <th>f_04</th>\n",
       "      <th>f_05</th>\n",
       "      <th>f_06</th>\n",
       "      <th>f_07</th>\n",
       "      <th>f_08</th>\n",
       "      <th>f_09</th>\n",
       "      <th>...</th>\n",
       "      <th>f_19</th>\n",
       "      <th>f_20</th>\n",
       "      <th>f_21</th>\n",
       "      <th>f_22</th>\n",
       "      <th>f_23</th>\n",
       "      <th>f_24</th>\n",
       "      <th>f_25</th>\n",
       "      <th>f_26</th>\n",
       "      <th>f_27</th>\n",
       "      <th>f_28</th>\n",
       "    </tr>\n",
       "  </thead>\n",
       "  <tbody>\n",
       "    <tr>\n",
       "      <th>0</th>\n",
       "      <td>-0.389230</td>\n",
       "      <td>-0.917652</td>\n",
       "      <td>0.647948</td>\n",
       "      <td>0.590717</td>\n",
       "      <td>-0.824836</td>\n",
       "      <td>0.734685</td>\n",
       "      <td>2.259470</td>\n",
       "      <td>-0.977987</td>\n",
       "      <td>1.383372</td>\n",
       "      <td>1.039938</td>\n",
       "      <td>...</td>\n",
       "      <td>-0.472922</td>\n",
       "      <td>-0.753925</td>\n",
       "      <td>-0.763110</td>\n",
       "      <td>-0.707876</td>\n",
       "      <td>0.911477</td>\n",
       "      <td>-0.678852</td>\n",
       "      <td>0.768543</td>\n",
       "      <td>0.960344</td>\n",
       "      <td>1.042536</td>\n",
       "      <td>0.694234</td>\n",
       "    </tr>\n",
       "    <tr>\n",
       "      <th>1</th>\n",
       "      <td>-0.688368</td>\n",
       "      <td>-0.458647</td>\n",
       "      <td>0.653182</td>\n",
       "      <td>0.995359</td>\n",
       "      <td>-1.644030</td>\n",
       "      <td>0.864898</td>\n",
       "      <td>-0.085604</td>\n",
       "      <td>-0.977987</td>\n",
       "      <td>-0.875405</td>\n",
       "      <td>-0.179925</td>\n",
       "      <td>...</td>\n",
       "      <td>-0.423594</td>\n",
       "      <td>-0.088164</td>\n",
       "      <td>-1.777545</td>\n",
       "      <td>-0.535582</td>\n",
       "      <td>0.453824</td>\n",
       "      <td>1.031505</td>\n",
       "      <td>-0.117686</td>\n",
       "      <td>-0.550783</td>\n",
       "      <td>0.367242</td>\n",
       "      <td>-1.636652</td>\n",
       "    </tr>\n",
       "    <tr>\n",
       "      <th>2</th>\n",
       "      <td>0.805709</td>\n",
       "      <td>0.319397</td>\n",
       "      <td>-1.166935</td>\n",
       "      <td>-0.622421</td>\n",
       "      <td>0.108371</td>\n",
       "      <td>0.785018</td>\n",
       "      <td>1.990489</td>\n",
       "      <td>0.021718</td>\n",
       "      <td>1.017648</td>\n",
       "      <td>-0.394246</td>\n",
       "      <td>...</td>\n",
       "      <td>-0.408425</td>\n",
       "      <td>-1.598612</td>\n",
       "      <td>1.194423</td>\n",
       "      <td>2.203065</td>\n",
       "      <td>0.086974</td>\n",
       "      <td>-1.519163</td>\n",
       "      <td>-0.568662</td>\n",
       "      <td>0.978900</td>\n",
       "      <td>-0.926277</td>\n",
       "      <td>-2.296373</td>\n",
       "    </tr>\n",
       "    <tr>\n",
       "      <th>3</th>\n",
       "      <td>-0.500469</td>\n",
       "      <td>0.223997</td>\n",
       "      <td>0.262677</td>\n",
       "      <td>0.234061</td>\n",
       "      <td>0.417047</td>\n",
       "      <td>-1.218768</td>\n",
       "      <td>0.144455</td>\n",
       "      <td>0.286548</td>\n",
       "      <td>-1.213526</td>\n",
       "      <td>0.917564</td>\n",
       "      <td>...</td>\n",
       "      <td>0.620278</td>\n",
       "      <td>1.283827</td>\n",
       "      <td>0.532884</td>\n",
       "      <td>0.731623</td>\n",
       "      <td>-1.218086</td>\n",
       "      <td>0.826492</td>\n",
       "      <td>-1.173592</td>\n",
       "      <td>-0.395085</td>\n",
       "      <td>-0.100021</td>\n",
       "      <td>0.326682</td>\n",
       "    </tr>\n",
       "    <tr>\n",
       "      <th>4</th>\n",
       "      <td>-0.670427</td>\n",
       "      <td>-1.044482</td>\n",
       "      <td>-0.270854</td>\n",
       "      <td>-1.833338</td>\n",
       "      <td>-0.285955</td>\n",
       "      <td>-1.849243</td>\n",
       "      <td>0.787627</td>\n",
       "      <td>0.756900</td>\n",
       "      <td>0.187543</td>\n",
       "      <td>-0.394246</td>\n",
       "      <td>...</td>\n",
       "      <td>-1.614933</td>\n",
       "      <td>-0.432406</td>\n",
       "      <td>0.321899</td>\n",
       "      <td>0.228337</td>\n",
       "      <td>-1.482684</td>\n",
       "      <td>0.847999</td>\n",
       "      <td>-0.613935</td>\n",
       "      <td>1.164389</td>\n",
       "      <td>-0.374203</td>\n",
       "      <td>-1.160058</td>\n",
       "    </tr>\n",
       "  </tbody>\n",
       "</table>\n",
       "<p>5 rows × 29 columns</p>\n",
       "</div>"
      ],
      "text/plain": [
       "       f_00      f_01      f_02      f_03      f_04      f_05      f_06  \\\n",
       "0 -0.389230 -0.917652  0.647948  0.590717 -0.824836  0.734685  2.259470   \n",
       "1 -0.688368 -0.458647  0.653182  0.995359 -1.644030  0.864898 -0.085604   \n",
       "2  0.805709  0.319397 -1.166935 -0.622421  0.108371  0.785018  1.990489   \n",
       "3 -0.500469  0.223997  0.262677  0.234061  0.417047 -1.218768  0.144455   \n",
       "4 -0.670427 -1.044482 -0.270854 -1.833338 -0.285955 -1.849243  0.787627   \n",
       "\n",
       "       f_07      f_08      f_09  ...      f_19      f_20      f_21      f_22  \\\n",
       "0 -0.977987  1.383372  1.039938  ... -0.472922 -0.753925 -0.763110 -0.707876   \n",
       "1 -0.977987 -0.875405 -0.179925  ... -0.423594 -0.088164 -1.777545 -0.535582   \n",
       "2  0.021718  1.017648 -0.394246  ... -0.408425 -1.598612  1.194423  2.203065   \n",
       "3  0.286548 -1.213526  0.917564  ...  0.620278  1.283827  0.532884  0.731623   \n",
       "4  0.756900  0.187543 -0.394246  ... -1.614933 -0.432406  0.321899  0.228337   \n",
       "\n",
       "       f_23      f_24      f_25      f_26      f_27      f_28  \n",
       "0  0.911477 -0.678852  0.768543  0.960344  1.042536  0.694234  \n",
       "1  0.453824  1.031505 -0.117686 -0.550783  0.367242 -1.636652  \n",
       "2  0.086974 -1.519163 -0.568662  0.978900 -0.926277 -2.296373  \n",
       "3 -1.218086  0.826492 -1.173592 -0.395085 -0.100021  0.326682  \n",
       "4 -1.482684  0.847999 -0.613935  1.164389 -0.374203 -1.160058  \n",
       "\n",
       "[5 rows x 29 columns]"
      ]
     },
     "execution_count": 22,
     "metadata": {},
     "output_type": "execute_result"
    }
   ],
   "source": [
    "train.head()"
   ]
  },
  {
   "cell_type": "markdown",
   "id": "6128c02e",
   "metadata": {},
   "source": [
    "### Create test variable as copy of train because we are going to remove outlier"
   ]
  },
  {
   "cell_type": "markdown",
   "id": "d827e40d",
   "metadata": {},
   "source": [
    "#### remove outlier in continuous numerical feature"
   ]
  },
  {
   "cell_type": "code",
   "execution_count": 222,
   "id": "33452c8b",
   "metadata": {},
   "outputs": [],
   "source": [
    "def removing_outlier_thresholds_iqr(dataframe, col_name, th1=0.25, th3=0.75):\n",
    "    for col in col_name:\n",
    "        quartile1 = dataframe[col].quantile(th1)\n",
    "        quartile3 = dataframe[col].quantile(th3)\n",
    "        iqr = quartile3 - quartile1\n",
    "        upper_limit = quartile3 + 1.5 * iqr\n",
    "        lower_limit = quartile1 - 1.5 * iqr\n",
    "        \n",
    "        dataframe = dataframe[(dataframe[col]>lower_limit) & (dataframe[col]<upper_limit)]\n",
    "        \n",
    "        return dataframe"
   ]
  },
  {
   "cell_type": "code",
   "execution_count": 25,
   "id": "82a6350c",
   "metadata": {},
   "outputs": [
    {
     "data": {
      "text/html": [
       "<div>\n",
       "<style scoped>\n",
       "    .dataframe tbody tr th:only-of-type {\n",
       "        vertical-align: middle;\n",
       "    }\n",
       "\n",
       "    .dataframe tbody tr th {\n",
       "        vertical-align: top;\n",
       "    }\n",
       "\n",
       "    .dataframe thead th {\n",
       "        text-align: right;\n",
       "    }\n",
       "</style>\n",
       "<table border=\"1\" class=\"dataframe\">\n",
       "  <thead>\n",
       "    <tr style=\"text-align: right;\">\n",
       "      <th></th>\n",
       "      <th>f_00</th>\n",
       "      <th>f_01</th>\n",
       "      <th>f_02</th>\n",
       "      <th>f_03</th>\n",
       "      <th>f_04</th>\n",
       "      <th>f_05</th>\n",
       "      <th>f_06</th>\n",
       "      <th>f_07</th>\n",
       "      <th>f_08</th>\n",
       "      <th>f_09</th>\n",
       "      <th>...</th>\n",
       "      <th>f_19</th>\n",
       "      <th>f_20</th>\n",
       "      <th>f_21</th>\n",
       "      <th>f_22</th>\n",
       "      <th>f_23</th>\n",
       "      <th>f_24</th>\n",
       "      <th>f_25</th>\n",
       "      <th>f_26</th>\n",
       "      <th>f_27</th>\n",
       "      <th>f_28</th>\n",
       "    </tr>\n",
       "  </thead>\n",
       "  <tbody>\n",
       "    <tr>\n",
       "      <th>0</th>\n",
       "      <td>-0.389230</td>\n",
       "      <td>-0.917652</td>\n",
       "      <td>0.647948</td>\n",
       "      <td>0.590717</td>\n",
       "      <td>-0.824836</td>\n",
       "      <td>0.734685</td>\n",
       "      <td>2.259470</td>\n",
       "      <td>-0.977987</td>\n",
       "      <td>1.383372</td>\n",
       "      <td>1.039938</td>\n",
       "      <td>...</td>\n",
       "      <td>-0.472922</td>\n",
       "      <td>-0.753925</td>\n",
       "      <td>-0.763110</td>\n",
       "      <td>-0.707876</td>\n",
       "      <td>0.911477</td>\n",
       "      <td>-0.678852</td>\n",
       "      <td>0.768543</td>\n",
       "      <td>0.960344</td>\n",
       "      <td>1.042536</td>\n",
       "      <td>0.694234</td>\n",
       "    </tr>\n",
       "    <tr>\n",
       "      <th>1</th>\n",
       "      <td>-0.688368</td>\n",
       "      <td>-0.458647</td>\n",
       "      <td>0.653182</td>\n",
       "      <td>0.995359</td>\n",
       "      <td>-1.644030</td>\n",
       "      <td>0.864898</td>\n",
       "      <td>-0.085604</td>\n",
       "      <td>-0.977987</td>\n",
       "      <td>-0.875405</td>\n",
       "      <td>-0.179925</td>\n",
       "      <td>...</td>\n",
       "      <td>-0.423594</td>\n",
       "      <td>-0.088164</td>\n",
       "      <td>-1.777545</td>\n",
       "      <td>-0.535582</td>\n",
       "      <td>0.453824</td>\n",
       "      <td>1.031505</td>\n",
       "      <td>-0.117686</td>\n",
       "      <td>-0.550783</td>\n",
       "      <td>0.367242</td>\n",
       "      <td>-1.636652</td>\n",
       "    </tr>\n",
       "    <tr>\n",
       "      <th>2</th>\n",
       "      <td>0.805709</td>\n",
       "      <td>0.319397</td>\n",
       "      <td>-1.166935</td>\n",
       "      <td>-0.622421</td>\n",
       "      <td>0.108371</td>\n",
       "      <td>0.785018</td>\n",
       "      <td>1.990489</td>\n",
       "      <td>0.021718</td>\n",
       "      <td>1.017648</td>\n",
       "      <td>-0.394246</td>\n",
       "      <td>...</td>\n",
       "      <td>-0.408425</td>\n",
       "      <td>-1.598612</td>\n",
       "      <td>1.194423</td>\n",
       "      <td>2.203065</td>\n",
       "      <td>0.086974</td>\n",
       "      <td>-1.519163</td>\n",
       "      <td>-0.568662</td>\n",
       "      <td>0.978900</td>\n",
       "      <td>-0.926277</td>\n",
       "      <td>-2.296373</td>\n",
       "    </tr>\n",
       "    <tr>\n",
       "      <th>3</th>\n",
       "      <td>-0.500469</td>\n",
       "      <td>0.223997</td>\n",
       "      <td>0.262677</td>\n",
       "      <td>0.234061</td>\n",
       "      <td>0.417047</td>\n",
       "      <td>-1.218768</td>\n",
       "      <td>0.144455</td>\n",
       "      <td>0.286548</td>\n",
       "      <td>-1.213526</td>\n",
       "      <td>0.917564</td>\n",
       "      <td>...</td>\n",
       "      <td>0.620278</td>\n",
       "      <td>1.283827</td>\n",
       "      <td>0.532884</td>\n",
       "      <td>0.731623</td>\n",
       "      <td>-1.218086</td>\n",
       "      <td>0.826492</td>\n",
       "      <td>-1.173592</td>\n",
       "      <td>-0.395085</td>\n",
       "      <td>-0.100021</td>\n",
       "      <td>0.326682</td>\n",
       "    </tr>\n",
       "    <tr>\n",
       "      <th>4</th>\n",
       "      <td>-0.670427</td>\n",
       "      <td>-1.044482</td>\n",
       "      <td>-0.270854</td>\n",
       "      <td>-1.833338</td>\n",
       "      <td>-0.285955</td>\n",
       "      <td>-1.849243</td>\n",
       "      <td>0.787627</td>\n",
       "      <td>0.756900</td>\n",
       "      <td>0.187543</td>\n",
       "      <td>-0.394246</td>\n",
       "      <td>...</td>\n",
       "      <td>-1.614933</td>\n",
       "      <td>-0.432406</td>\n",
       "      <td>0.321899</td>\n",
       "      <td>0.228337</td>\n",
       "      <td>-1.482684</td>\n",
       "      <td>0.847999</td>\n",
       "      <td>-0.613935</td>\n",
       "      <td>1.164389</td>\n",
       "      <td>-0.374203</td>\n",
       "      <td>-1.160058</td>\n",
       "    </tr>\n",
       "    <tr>\n",
       "      <th>...</th>\n",
       "      <td>...</td>\n",
       "      <td>...</td>\n",
       "      <td>...</td>\n",
       "      <td>...</td>\n",
       "      <td>...</td>\n",
       "      <td>...</td>\n",
       "      <td>...</td>\n",
       "      <td>...</td>\n",
       "      <td>...</td>\n",
       "      <td>...</td>\n",
       "      <td>...</td>\n",
       "      <td>...</td>\n",
       "      <td>...</td>\n",
       "      <td>...</td>\n",
       "      <td>...</td>\n",
       "      <td>...</td>\n",
       "      <td>...</td>\n",
       "      <td>...</td>\n",
       "      <td>...</td>\n",
       "      <td>...</td>\n",
       "      <td>...</td>\n",
       "    </tr>\n",
       "    <tr>\n",
       "      <th>97995</th>\n",
       "      <td>0.236079</td>\n",
       "      <td>1.649018</td>\n",
       "      <td>-0.688341</td>\n",
       "      <td>0.316100</td>\n",
       "      <td>-0.294857</td>\n",
       "      <td>0.330198</td>\n",
       "      <td>1.611098</td>\n",
       "      <td>0.021718</td>\n",
       "      <td>0.187543</td>\n",
       "      <td>0.191659</td>\n",
       "      <td>...</td>\n",
       "      <td>-0.285699</td>\n",
       "      <td>-0.255975</td>\n",
       "      <td>-0.972161</td>\n",
       "      <td>0.952876</td>\n",
       "      <td>0.407860</td>\n",
       "      <td>1.283842</td>\n",
       "      <td>-0.075219</td>\n",
       "      <td>-0.989846</td>\n",
       "      <td>0.166988</td>\n",
       "      <td>0.459507</td>\n",
       "    </tr>\n",
       "    <tr>\n",
       "      <th>97996</th>\n",
       "      <td>0.320923</td>\n",
       "      <td>0.704623</td>\n",
       "      <td>0.561468</td>\n",
       "      <td>-1.322145</td>\n",
       "      <td>-0.353335</td>\n",
       "      <td>0.183118</td>\n",
       "      <td>0.184227</td>\n",
       "      <td>-0.598123</td>\n",
       "      <td>0.622133</td>\n",
       "      <td>-1.243439</td>\n",
       "      <td>...</td>\n",
       "      <td>0.120203</td>\n",
       "      <td>1.383738</td>\n",
       "      <td>0.341845</td>\n",
       "      <td>1.158978</td>\n",
       "      <td>-0.429211</td>\n",
       "      <td>0.271421</td>\n",
       "      <td>0.783851</td>\n",
       "      <td>0.141914</td>\n",
       "      <td>0.692651</td>\n",
       "      <td>0.639735</td>\n",
       "    </tr>\n",
       "    <tr>\n",
       "      <th>97997</th>\n",
       "      <td>-0.249521</td>\n",
       "      <td>-0.464239</td>\n",
       "      <td>1.890043</td>\n",
       "      <td>-1.340827</td>\n",
       "      <td>0.197689</td>\n",
       "      <td>-0.557889</td>\n",
       "      <td>-0.375854</td>\n",
       "      <td>0.756900</td>\n",
       "      <td>0.622133</td>\n",
       "      <td>0.509344</td>\n",
       "      <td>...</td>\n",
       "      <td>-0.842327</td>\n",
       "      <td>-1.783844</td>\n",
       "      <td>-1.265007</td>\n",
       "      <td>-0.995900</td>\n",
       "      <td>1.450009</td>\n",
       "      <td>0.867108</td>\n",
       "      <td>0.180931</td>\n",
       "      <td>1.539188</td>\n",
       "      <td>1.178636</td>\n",
       "      <td>0.584929</td>\n",
       "    </tr>\n",
       "    <tr>\n",
       "      <th>97998</th>\n",
       "      <td>0.309671</td>\n",
       "      <td>2.175648</td>\n",
       "      <td>0.760608</td>\n",
       "      <td>0.438831</td>\n",
       "      <td>0.466863</td>\n",
       "      <td>0.063461</td>\n",
       "      <td>-0.329904</td>\n",
       "      <td>-1.440987</td>\n",
       "      <td>0.410491</td>\n",
       "      <td>0.653205</td>\n",
       "      <td>...</td>\n",
       "      <td>-0.007794</td>\n",
       "      <td>1.115797</td>\n",
       "      <td>1.571869</td>\n",
       "      <td>0.278189</td>\n",
       "      <td>0.512721</td>\n",
       "      <td>0.687465</td>\n",
       "      <td>-0.286145</td>\n",
       "      <td>-1.085469</td>\n",
       "      <td>-0.538491</td>\n",
       "      <td>0.129094</td>\n",
       "    </tr>\n",
       "    <tr>\n",
       "      <th>97999</th>\n",
       "      <td>0.751985</td>\n",
       "      <td>0.561948</td>\n",
       "      <td>1.458479</td>\n",
       "      <td>-0.576892</td>\n",
       "      <td>-0.045085</td>\n",
       "      <td>-1.203762</td>\n",
       "      <td>0.790031</td>\n",
       "      <td>-2.070579</td>\n",
       "      <td>1.017648</td>\n",
       "      <td>-0.912475</td>\n",
       "      <td>...</td>\n",
       "      <td>1.180881</td>\n",
       "      <td>-0.922415</td>\n",
       "      <td>-1.364946</td>\n",
       "      <td>-1.659267</td>\n",
       "      <td>1.119965</td>\n",
       "      <td>-1.202350</td>\n",
       "      <td>0.139758</td>\n",
       "      <td>-0.634344</td>\n",
       "      <td>0.999328</td>\n",
       "      <td>-0.296914</td>\n",
       "    </tr>\n",
       "  </tbody>\n",
       "</table>\n",
       "<p>98000 rows × 29 columns</p>\n",
       "</div>"
      ],
      "text/plain": [
       "           f_00      f_01      f_02      f_03      f_04      f_05      f_06  \\\n",
       "0     -0.389230 -0.917652  0.647948  0.590717 -0.824836  0.734685  2.259470   \n",
       "1     -0.688368 -0.458647  0.653182  0.995359 -1.644030  0.864898 -0.085604   \n",
       "2      0.805709  0.319397 -1.166935 -0.622421  0.108371  0.785018  1.990489   \n",
       "3     -0.500469  0.223997  0.262677  0.234061  0.417047 -1.218768  0.144455   \n",
       "4     -0.670427 -1.044482 -0.270854 -1.833338 -0.285955 -1.849243  0.787627   \n",
       "...         ...       ...       ...       ...       ...       ...       ...   \n",
       "97995  0.236079  1.649018 -0.688341  0.316100 -0.294857  0.330198  1.611098   \n",
       "97996  0.320923  0.704623  0.561468 -1.322145 -0.353335  0.183118  0.184227   \n",
       "97997 -0.249521 -0.464239  1.890043 -1.340827  0.197689 -0.557889 -0.375854   \n",
       "97998  0.309671  2.175648  0.760608  0.438831  0.466863  0.063461 -0.329904   \n",
       "97999  0.751985  0.561948  1.458479 -0.576892 -0.045085 -1.203762  0.790031   \n",
       "\n",
       "           f_07      f_08      f_09  ...      f_19      f_20      f_21  \\\n",
       "0     -0.977987  1.383372  1.039938  ... -0.472922 -0.753925 -0.763110   \n",
       "1     -0.977987 -0.875405 -0.179925  ... -0.423594 -0.088164 -1.777545   \n",
       "2      0.021718  1.017648 -0.394246  ... -0.408425 -1.598612  1.194423   \n",
       "3      0.286548 -1.213526  0.917564  ...  0.620278  1.283827  0.532884   \n",
       "4      0.756900  0.187543 -0.394246  ... -1.614933 -0.432406  0.321899   \n",
       "...         ...       ...       ...  ...       ...       ...       ...   \n",
       "97995  0.021718  0.187543  0.191659  ... -0.285699 -0.255975 -0.972161   \n",
       "97996 -0.598123  0.622133 -1.243439  ...  0.120203  1.383738  0.341845   \n",
       "97997  0.756900  0.622133  0.509344  ... -0.842327 -1.783844 -1.265007   \n",
       "97998 -1.440987  0.410491  0.653205  ... -0.007794  1.115797  1.571869   \n",
       "97999 -2.070579  1.017648 -0.912475  ...  1.180881 -0.922415 -1.364946   \n",
       "\n",
       "           f_22      f_23      f_24      f_25      f_26      f_27      f_28  \n",
       "0     -0.707876  0.911477 -0.678852  0.768543  0.960344  1.042536  0.694234  \n",
       "1     -0.535582  0.453824  1.031505 -0.117686 -0.550783  0.367242 -1.636652  \n",
       "2      2.203065  0.086974 -1.519163 -0.568662  0.978900 -0.926277 -2.296373  \n",
       "3      0.731623 -1.218086  0.826492 -1.173592 -0.395085 -0.100021  0.326682  \n",
       "4      0.228337 -1.482684  0.847999 -0.613935  1.164389 -0.374203 -1.160058  \n",
       "...         ...       ...       ...       ...       ...       ...       ...  \n",
       "97995  0.952876  0.407860  1.283842 -0.075219 -0.989846  0.166988  0.459507  \n",
       "97996  1.158978 -0.429211  0.271421  0.783851  0.141914  0.692651  0.639735  \n",
       "97997 -0.995900  1.450009  0.867108  0.180931  1.539188  1.178636  0.584929  \n",
       "97998  0.278189  0.512721  0.687465 -0.286145 -1.085469 -0.538491  0.129094  \n",
       "97999 -1.659267  1.119965 -1.202350  0.139758 -0.634344  0.999328 -0.296914  \n",
       "\n",
       "[98000 rows x 29 columns]"
      ]
     },
     "execution_count": 25,
     "metadata": {},
     "output_type": "execute_result"
    }
   ],
   "source": [
    "train = removing_outlier_thresholds_iqr(train,num_feature)\n",
    "train"
   ]
  },
  {
   "cell_type": "markdown",
   "id": "f74bcd78",
   "metadata": {},
   "source": [
    "# Feature selection"
   ]
  },
  {
   "cell_type": "code",
   "execution_count": 26,
   "id": "22f51071",
   "metadata": {},
   "outputs": [
    {
     "data": {
      "text/plain": [
       "<AxesSubplot:>"
      ]
     },
     "execution_count": 26,
     "metadata": {},
     "output_type": "execute_result"
    },
    {
     "data": {
      "image/png": "[encoded data removed]",
      "text/plain": [
       "<Figure size 1800x1800 with 2 Axes>"
      ]
     },
     "metadata": {
      "needs_background": "light"
     },
     "output_type": "display_data"
    }
   ],
   "source": [
    "plt.figure(figsize=(25,25))\n",
    "sns.heatmap(train.corr(),annot=True,cmap='viridis')"
   ]
  },
  {
   "cell_type": "code",
   "execution_count": 27,
   "id": "9de02883",
   "metadata": {},
   "outputs": [],
   "source": [
    "X_train = train.copy()\n",
    "sel_feature = ['f_07','f_08','f_09','f_10','f_11','f_12','f_13','f_22','f_23','f_24','f_25','f_26','f_27','f_28']\n",
    "X_train = X_train[sel_feature]"
   ]
  },
  {
   "cell_type": "markdown",
   "id": "2522d1d0",
   "metadata": {},
   "source": [
    "# Apply feature engineering and feature selection on test data"
   ]
  },
  {
   "cell_type": "code",
   "execution_count": 28,
   "id": "bdbb2a67",
   "metadata": {},
   "outputs": [
    {
     "data": {
      "text/html": [
       "<div>\n",
       "<style scoped>\n",
       "    .dataframe tbody tr th:only-of-type {\n",
       "        vertical-align: middle;\n",
       "    }\n",
       "\n",
       "    .dataframe tbody tr th {\n",
       "        vertical-align: top;\n",
       "    }\n",
       "\n",
       "    .dataframe thead th {\n",
       "        text-align: right;\n",
       "    }\n",
       "</style>\n",
       "<table border=\"1\" class=\"dataframe\">\n",
       "  <thead>\n",
       "    <tr style=\"text-align: right;\">\n",
       "      <th></th>\n",
       "      <th>f_00</th>\n",
       "      <th>f_01</th>\n",
       "      <th>f_02</th>\n",
       "      <th>f_03</th>\n",
       "      <th>f_04</th>\n",
       "      <th>f_05</th>\n",
       "      <th>f_06</th>\n",
       "      <th>f_07</th>\n",
       "      <th>f_08</th>\n",
       "      <th>f_09</th>\n",
       "      <th>...</th>\n",
       "      <th>f_19</th>\n",
       "      <th>f_20</th>\n",
       "      <th>f_21</th>\n",
       "      <th>f_22</th>\n",
       "      <th>f_23</th>\n",
       "      <th>f_24</th>\n",
       "      <th>f_25</th>\n",
       "      <th>f_26</th>\n",
       "      <th>f_27</th>\n",
       "      <th>f_28</th>\n",
       "    </tr>\n",
       "  </thead>\n",
       "  <tbody>\n",
       "    <tr>\n",
       "      <th>0</th>\n",
       "      <td>-0.389420</td>\n",
       "      <td>-0.912791</td>\n",
       "      <td>0.648951</td>\n",
       "      <td>0.589045</td>\n",
       "      <td>-0.830817</td>\n",
       "      <td>0.733624</td>\n",
       "      <td>2.258560</td>\n",
       "      <td>2</td>\n",
       "      <td>13</td>\n",
       "      <td>14</td>\n",
       "      <td>...</td>\n",
       "      <td>-0.478412</td>\n",
       "      <td>-0.757002</td>\n",
       "      <td>-0.763635</td>\n",
       "      <td>-1.090369</td>\n",
       "      <td>1.142641</td>\n",
       "      <td>-0.884274</td>\n",
       "      <td>1.137896</td>\n",
       "      <td>1.309073</td>\n",
       "      <td>1.463002</td>\n",
       "      <td>0.813527</td>\n",
       "    </tr>\n",
       "    <tr>\n",
       "      <th>1</th>\n",
       "      <td>-0.689249</td>\n",
       "      <td>-0.453954</td>\n",
       "      <td>0.654175</td>\n",
       "      <td>0.995248</td>\n",
       "      <td>-1.653020</td>\n",
       "      <td>0.863810</td>\n",
       "      <td>-0.090651</td>\n",
       "      <td>2</td>\n",
       "      <td>3</td>\n",
       "      <td>6</td>\n",
       "      <td>...</td>\n",
       "      <td>-0.428791</td>\n",
       "      <td>-0.089908</td>\n",
       "      <td>-1.784204</td>\n",
       "      <td>-0.839474</td>\n",
       "      <td>0.459685</td>\n",
       "      <td>1.759412</td>\n",
       "      <td>-0.275422</td>\n",
       "      <td>-0.852168</td>\n",
       "      <td>0.562457</td>\n",
       "      <td>-2.680541</td>\n",
       "    </tr>\n",
       "    <tr>\n",
       "      <th>2</th>\n",
       "      <td>0.809079</td>\n",
       "      <td>0.324568</td>\n",
       "      <td>-1.170602</td>\n",
       "      <td>-0.624491</td>\n",
       "      <td>0.105448</td>\n",
       "      <td>0.783948</td>\n",
       "      <td>1.988301</td>\n",
       "      <td>5</td>\n",
       "      <td>11</td>\n",
       "      <td>5</td>\n",
       "      <td>...</td>\n",
       "      <td>-0.413534</td>\n",
       "      <td>-1.602377</td>\n",
       "      <td>1.190984</td>\n",
       "      <td>3.267116</td>\n",
       "      <td>-0.088322</td>\n",
       "      <td>-2.168635</td>\n",
       "      <td>-0.974989</td>\n",
       "      <td>1.335763</td>\n",
       "      <td>-1.110655</td>\n",
       "      <td>-3.630723</td>\n",
       "    </tr>\n",
       "    <tr>\n",
       "      <th>3</th>\n",
       "      <td>-0.500923</td>\n",
       "      <td>0.229049</td>\n",
       "      <td>0.264109</td>\n",
       "      <td>0.231520</td>\n",
       "      <td>0.415012</td>\n",
       "      <td>-1.221269</td>\n",
       "      <td>0.138850</td>\n",
       "      <td>6</td>\n",
       "      <td>2</td>\n",
       "      <td>13</td>\n",
       "      <td>...</td>\n",
       "      <td>0.619283</td>\n",
       "      <td>1.287801</td>\n",
       "      <td>0.532837</td>\n",
       "      <td>1.036631</td>\n",
       "      <td>-2.041828</td>\n",
       "      <td>1.440490</td>\n",
       "      <td>-1.900191</td>\n",
       "      <td>-0.630771</td>\n",
       "      <td>-0.050641</td>\n",
       "      <td>0.238333</td>\n",
       "    </tr>\n",
       "    <tr>\n",
       "      <th>4</th>\n",
       "      <td>-0.671268</td>\n",
       "      <td>-1.039533</td>\n",
       "      <td>-0.270155</td>\n",
       "      <td>-1.830264</td>\n",
       "      <td>-0.290108</td>\n",
       "      <td>-1.852809</td>\n",
       "      <td>0.781898</td>\n",
       "      <td>8</td>\n",
       "      <td>7</td>\n",
       "      <td>5</td>\n",
       "      <td>...</td>\n",
       "      <td>-1.628830</td>\n",
       "      <td>-0.434948</td>\n",
       "      <td>0.322505</td>\n",
       "      <td>0.284326</td>\n",
       "      <td>-2.438365</td>\n",
       "      <td>1.473930</td>\n",
       "      <td>-1.044684</td>\n",
       "      <td>1.602686</td>\n",
       "      <td>-0.405263</td>\n",
       "      <td>-1.987263</td>\n",
       "    </tr>\n",
       "  </tbody>\n",
       "</table>\n",
       "<p>5 rows × 29 columns</p>\n",
       "</div>"
      ],
      "text/plain": [
       "       f_00      f_01      f_02      f_03      f_04      f_05      f_06  f_07  \\\n",
       "0 -0.389420 -0.912791  0.648951  0.589045 -0.830817  0.733624  2.258560     2   \n",
       "1 -0.689249 -0.453954  0.654175  0.995248 -1.653020  0.863810 -0.090651     2   \n",
       "2  0.809079  0.324568 -1.170602 -0.624491  0.105448  0.783948  1.988301     5   \n",
       "3 -0.500923  0.229049  0.264109  0.231520  0.415012 -1.221269  0.138850     6   \n",
       "4 -0.671268 -1.039533 -0.270155 -1.830264 -0.290108 -1.852809  0.781898     8   \n",
       "\n",
       "   f_08  f_09  ...      f_19      f_20      f_21      f_22      f_23  \\\n",
       "0    13    14  ... -0.478412 -0.757002 -0.763635 -1.090369  1.142641   \n",
       "1     3     6  ... -0.428791 -0.089908 -1.784204 -0.839474  0.459685   \n",
       "2    11     5  ... -0.413534 -1.602377  1.190984  3.267116 -0.088322   \n",
       "3     2    13  ...  0.619283  1.287801  0.532837  1.036631 -2.041828   \n",
       "4     7     5  ... -1.628830 -0.434948  0.322505  0.284326 -2.438365   \n",
       "\n",
       "       f_24      f_25      f_26      f_27      f_28  \n",
       "0 -0.884274  1.137896  1.309073  1.463002  0.813527  \n",
       "1  1.759412 -0.275422 -0.852168  0.562457 -2.680541  \n",
       "2 -2.168635 -0.974989  1.335763 -1.110655 -3.630723  \n",
       "3  1.440490 -1.900191 -0.630771 -0.050641  0.238333  \n",
       "4  1.473930 -1.044684  1.602686 -0.405263 -1.987263  \n",
       "\n",
       "[5 rows x 29 columns]"
      ]
     },
     "execution_count": 28,
     "metadata": {},
     "output_type": "execute_result"
    }
   ],
   "source": [
    "test.head()"
   ]
  },
  {
   "cell_type": "code",
   "execution_count": 29,
   "id": "eda4712a",
   "metadata": {},
   "outputs": [],
   "source": [
    "test[num_feature] = pow_scaler.transform(test[num_feature])"
   ]
  },
  {
   "cell_type": "code",
   "execution_count": 30,
   "id": "3b7fe2a0",
   "metadata": {},
   "outputs": [
    {
     "data": {
      "text/html": [
       "<div>\n",
       "<style scoped>\n",
       "    .dataframe tbody tr th:only-of-type {\n",
       "        vertical-align: middle;\n",
       "    }\n",
       "\n",
       "    .dataframe tbody tr th {\n",
       "        vertical-align: top;\n",
       "    }\n",
       "\n",
       "    .dataframe thead th {\n",
       "        text-align: right;\n",
       "    }\n",
       "</style>\n",
       "<table border=\"1\" class=\"dataframe\">\n",
       "  <thead>\n",
       "    <tr style=\"text-align: right;\">\n",
       "      <th></th>\n",
       "      <th>f_00</th>\n",
       "      <th>f_01</th>\n",
       "      <th>f_02</th>\n",
       "      <th>f_03</th>\n",
       "      <th>f_04</th>\n",
       "      <th>f_05</th>\n",
       "      <th>f_06</th>\n",
       "      <th>f_07</th>\n",
       "      <th>f_08</th>\n",
       "      <th>f_09</th>\n",
       "      <th>...</th>\n",
       "      <th>f_19</th>\n",
       "      <th>f_20</th>\n",
       "      <th>f_21</th>\n",
       "      <th>f_22</th>\n",
       "      <th>f_23</th>\n",
       "      <th>f_24</th>\n",
       "      <th>f_25</th>\n",
       "      <th>f_26</th>\n",
       "      <th>f_27</th>\n",
       "      <th>f_28</th>\n",
       "    </tr>\n",
       "  </thead>\n",
       "  <tbody>\n",
       "    <tr>\n",
       "      <th>0</th>\n",
       "      <td>-0.389230</td>\n",
       "      <td>-0.917652</td>\n",
       "      <td>0.647948</td>\n",
       "      <td>0.590717</td>\n",
       "      <td>-0.824836</td>\n",
       "      <td>0.734685</td>\n",
       "      <td>2.259470</td>\n",
       "      <td>-0.977987</td>\n",
       "      <td>1.383372</td>\n",
       "      <td>1.039938</td>\n",
       "      <td>...</td>\n",
       "      <td>-0.472922</td>\n",
       "      <td>-0.753925</td>\n",
       "      <td>-0.763110</td>\n",
       "      <td>-0.707876</td>\n",
       "      <td>0.911477</td>\n",
       "      <td>-0.678852</td>\n",
       "      <td>0.768543</td>\n",
       "      <td>0.960344</td>\n",
       "      <td>1.042536</td>\n",
       "      <td>0.694234</td>\n",
       "    </tr>\n",
       "    <tr>\n",
       "      <th>1</th>\n",
       "      <td>-0.688368</td>\n",
       "      <td>-0.458647</td>\n",
       "      <td>0.653182</td>\n",
       "      <td>0.995359</td>\n",
       "      <td>-1.644030</td>\n",
       "      <td>0.864898</td>\n",
       "      <td>-0.085604</td>\n",
       "      <td>-0.977987</td>\n",
       "      <td>-0.875405</td>\n",
       "      <td>-0.179925</td>\n",
       "      <td>...</td>\n",
       "      <td>-0.423594</td>\n",
       "      <td>-0.088164</td>\n",
       "      <td>-1.777545</td>\n",
       "      <td>-0.535582</td>\n",
       "      <td>0.453824</td>\n",
       "      <td>1.031505</td>\n",
       "      <td>-0.117686</td>\n",
       "      <td>-0.550783</td>\n",
       "      <td>0.367242</td>\n",
       "      <td>-1.636652</td>\n",
       "    </tr>\n",
       "    <tr>\n",
       "      <th>2</th>\n",
       "      <td>0.805709</td>\n",
       "      <td>0.319397</td>\n",
       "      <td>-1.166935</td>\n",
       "      <td>-0.622421</td>\n",
       "      <td>0.108371</td>\n",
       "      <td>0.785018</td>\n",
       "      <td>1.990489</td>\n",
       "      <td>0.021718</td>\n",
       "      <td>1.017648</td>\n",
       "      <td>-0.394246</td>\n",
       "      <td>...</td>\n",
       "      <td>-0.408425</td>\n",
       "      <td>-1.598612</td>\n",
       "      <td>1.194423</td>\n",
       "      <td>2.203065</td>\n",
       "      <td>0.086974</td>\n",
       "      <td>-1.519163</td>\n",
       "      <td>-0.568662</td>\n",
       "      <td>0.978900</td>\n",
       "      <td>-0.926277</td>\n",
       "      <td>-2.296373</td>\n",
       "    </tr>\n",
       "    <tr>\n",
       "      <th>3</th>\n",
       "      <td>-0.500469</td>\n",
       "      <td>0.223997</td>\n",
       "      <td>0.262677</td>\n",
       "      <td>0.234061</td>\n",
       "      <td>0.417047</td>\n",
       "      <td>-1.218768</td>\n",
       "      <td>0.144455</td>\n",
       "      <td>0.286548</td>\n",
       "      <td>-1.213526</td>\n",
       "      <td>0.917564</td>\n",
       "      <td>...</td>\n",
       "      <td>0.620278</td>\n",
       "      <td>1.283827</td>\n",
       "      <td>0.532884</td>\n",
       "      <td>0.731623</td>\n",
       "      <td>-1.218086</td>\n",
       "      <td>0.826492</td>\n",
       "      <td>-1.173592</td>\n",
       "      <td>-0.395085</td>\n",
       "      <td>-0.100021</td>\n",
       "      <td>0.326682</td>\n",
       "    </tr>\n",
       "    <tr>\n",
       "      <th>4</th>\n",
       "      <td>-0.670427</td>\n",
       "      <td>-1.044482</td>\n",
       "      <td>-0.270854</td>\n",
       "      <td>-1.833338</td>\n",
       "      <td>-0.285955</td>\n",
       "      <td>-1.849243</td>\n",
       "      <td>0.787627</td>\n",
       "      <td>0.756900</td>\n",
       "      <td>0.187543</td>\n",
       "      <td>-0.394246</td>\n",
       "      <td>...</td>\n",
       "      <td>-1.614933</td>\n",
       "      <td>-0.432406</td>\n",
       "      <td>0.321899</td>\n",
       "      <td>0.228337</td>\n",
       "      <td>-1.482684</td>\n",
       "      <td>0.847999</td>\n",
       "      <td>-0.613935</td>\n",
       "      <td>1.164389</td>\n",
       "      <td>-0.374203</td>\n",
       "      <td>-1.160058</td>\n",
       "    </tr>\n",
       "  </tbody>\n",
       "</table>\n",
       "<p>5 rows × 29 columns</p>\n",
       "</div>"
      ],
      "text/plain": [
       "       f_00      f_01      f_02      f_03      f_04      f_05      f_06  \\\n",
       "0 -0.389230 -0.917652  0.647948  0.590717 -0.824836  0.734685  2.259470   \n",
       "1 -0.688368 -0.458647  0.653182  0.995359 -1.644030  0.864898 -0.085604   \n",
       "2  0.805709  0.319397 -1.166935 -0.622421  0.108371  0.785018  1.990489   \n",
       "3 -0.500469  0.223997  0.262677  0.234061  0.417047 -1.218768  0.144455   \n",
       "4 -0.670427 -1.044482 -0.270854 -1.833338 -0.285955 -1.849243  0.787627   \n",
       "\n",
       "       f_07      f_08      f_09  ...      f_19      f_20      f_21      f_22  \\\n",
       "0 -0.977987  1.383372  1.039938  ... -0.472922 -0.753925 -0.763110 -0.707876   \n",
       "1 -0.977987 -0.875405 -0.179925  ... -0.423594 -0.088164 -1.777545 -0.535582   \n",
       "2  0.021718  1.017648 -0.394246  ... -0.408425 -1.598612  1.194423  2.203065   \n",
       "3  0.286548 -1.213526  0.917564  ...  0.620278  1.283827  0.532884  0.731623   \n",
       "4  0.756900  0.187543 -0.394246  ... -1.614933 -0.432406  0.321899  0.228337   \n",
       "\n",
       "       f_23      f_24      f_25      f_26      f_27      f_28  \n",
       "0  0.911477 -0.678852  0.768543  0.960344  1.042536  0.694234  \n",
       "1  0.453824  1.031505 -0.117686 -0.550783  0.367242 -1.636652  \n",
       "2  0.086974 -1.519163 -0.568662  0.978900 -0.926277 -2.296373  \n",
       "3 -1.218086  0.826492 -1.173592 -0.395085 -0.100021  0.326682  \n",
       "4 -1.482684  0.847999 -0.613935  1.164389 -0.374203 -1.160058  \n",
       "\n",
       "[5 rows x 29 columns]"
      ]
     },
     "execution_count": 30,
     "metadata": {},
     "output_type": "execute_result"
    }
   ],
   "source": [
    "test.head()"
   ]
  },
  {
   "cell_type": "code",
   "execution_count": 32,
   "id": "2b42747b",
   "metadata": {},
   "outputs": [],
   "source": [
    "test = test[sel_feature]"
   ]
  },
  {
   "cell_type": "code",
   "execution_count": 33,
   "id": "3208e16f",
   "metadata": {
    "scrolled": true
   },
   "outputs": [
    {
     "data": {
      "text/html": [
       "<div>\n",
       "<style scoped>\n",
       "    .dataframe tbody tr th:only-of-type {\n",
       "        vertical-align: middle;\n",
       "    }\n",
       "\n",
       "    .dataframe tbody tr th {\n",
       "        vertical-align: top;\n",
       "    }\n",
       "\n",
       "    .dataframe thead th {\n",
       "        text-align: right;\n",
       "    }\n",
       "</style>\n",
       "<table border=\"1\" class=\"dataframe\">\n",
       "  <thead>\n",
       "    <tr style=\"text-align: right;\">\n",
       "      <th></th>\n",
       "      <th>f_07</th>\n",
       "      <th>f_08</th>\n",
       "      <th>f_09</th>\n",
       "      <th>f_10</th>\n",
       "      <th>f_11</th>\n",
       "      <th>f_12</th>\n",
       "      <th>f_13</th>\n",
       "      <th>f_22</th>\n",
       "      <th>f_23</th>\n",
       "      <th>f_24</th>\n",
       "      <th>f_25</th>\n",
       "      <th>f_26</th>\n",
       "      <th>f_27</th>\n",
       "      <th>f_28</th>\n",
       "    </tr>\n",
       "  </thead>\n",
       "  <tbody>\n",
       "    <tr>\n",
       "      <th>0</th>\n",
       "      <td>-0.977987</td>\n",
       "      <td>1.383372</td>\n",
       "      <td>1.039938</td>\n",
       "      <td>-0.567775</td>\n",
       "      <td>1.142180</td>\n",
       "      <td>-0.083596</td>\n",
       "      <td>0.086073</td>\n",
       "      <td>-0.707876</td>\n",
       "      <td>0.911477</td>\n",
       "      <td>-0.678852</td>\n",
       "      <td>0.768543</td>\n",
       "      <td>0.960344</td>\n",
       "      <td>1.042536</td>\n",
       "      <td>0.694234</td>\n",
       "    </tr>\n",
       "    <tr>\n",
       "      <th>1</th>\n",
       "      <td>-0.977987</td>\n",
       "      <td>-0.875405</td>\n",
       "      <td>-0.179925</td>\n",
       "      <td>-0.837020</td>\n",
       "      <td>-0.420725</td>\n",
       "      <td>1.725834</td>\n",
       "      <td>0.738456</td>\n",
       "      <td>-0.535582</td>\n",
       "      <td>0.453824</td>\n",
       "      <td>1.031505</td>\n",
       "      <td>-0.117686</td>\n",
       "      <td>-0.550783</td>\n",
       "      <td>0.367242</td>\n",
       "      <td>-1.636652</td>\n",
       "    </tr>\n",
       "    <tr>\n",
       "      <th>2</th>\n",
       "      <td>0.021718</td>\n",
       "      <td>1.017648</td>\n",
       "      <td>-0.394246</td>\n",
       "      <td>0.124844</td>\n",
       "      <td>0.296135</td>\n",
       "      <td>-0.928325</td>\n",
       "      <td>1.118063</td>\n",
       "      <td>2.203065</td>\n",
       "      <td>0.086974</td>\n",
       "      <td>-1.519163</td>\n",
       "      <td>-0.568662</td>\n",
       "      <td>0.978900</td>\n",
       "      <td>-0.926277</td>\n",
       "      <td>-2.296373</td>\n",
       "    </tr>\n",
       "    <tr>\n",
       "      <th>3</th>\n",
       "      <td>0.286548</td>\n",
       "      <td>-1.213526</td>\n",
       "      <td>0.917564</td>\n",
       "      <td>0.124844</td>\n",
       "      <td>0.296135</td>\n",
       "      <td>-0.083596</td>\n",
       "      <td>-0.434221</td>\n",
       "      <td>0.731623</td>\n",
       "      <td>-1.218086</td>\n",
       "      <td>0.826492</td>\n",
       "      <td>-1.173592</td>\n",
       "      <td>-0.395085</td>\n",
       "      <td>-0.100021</td>\n",
       "      <td>0.326682</td>\n",
       "    </tr>\n",
       "    <tr>\n",
       "      <th>4</th>\n",
       "      <td>0.756900</td>\n",
       "      <td>0.187543</td>\n",
       "      <td>-0.394246</td>\n",
       "      <td>-1.135381</td>\n",
       "      <td>-1.954502</td>\n",
       "      <td>1.271662</td>\n",
       "      <td>1.118063</td>\n",
       "      <td>0.228337</td>\n",
       "      <td>-1.482684</td>\n",
       "      <td>0.847999</td>\n",
       "      <td>-0.613935</td>\n",
       "      <td>1.164389</td>\n",
       "      <td>-0.374203</td>\n",
       "      <td>-1.160058</td>\n",
       "    </tr>\n",
       "  </tbody>\n",
       "</table>\n",
       "</div>"
      ],
      "text/plain": [
       "       f_07      f_08      f_09      f_10      f_11      f_12      f_13  \\\n",
       "0 -0.977987  1.383372  1.039938 -0.567775  1.142180 -0.083596  0.086073   \n",
       "1 -0.977987 -0.875405 -0.179925 -0.837020 -0.420725  1.725834  0.738456   \n",
       "2  0.021718  1.017648 -0.394246  0.124844  0.296135 -0.928325  1.118063   \n",
       "3  0.286548 -1.213526  0.917564  0.124844  0.296135 -0.083596 -0.434221   \n",
       "4  0.756900  0.187543 -0.394246 -1.135381 -1.954502  1.271662  1.118063   \n",
       "\n",
       "       f_22      f_23      f_24      f_25      f_26      f_27      f_28  \n",
       "0 -0.707876  0.911477 -0.678852  0.768543  0.960344  1.042536  0.694234  \n",
       "1 -0.535582  0.453824  1.031505 -0.117686 -0.550783  0.367242 -1.636652  \n",
       "2  2.203065  0.086974 -1.519163 -0.568662  0.978900 -0.926277 -2.296373  \n",
       "3  0.731623 -1.218086  0.826492 -1.173592 -0.395085 -0.100021  0.326682  \n",
       "4  0.228337 -1.482684  0.847999 -0.613935  1.164389 -0.374203 -1.160058  "
      ]
     },
     "execution_count": 33,
     "metadata": {},
     "output_type": "execute_result"
    }
   ],
   "source": [
    "test.head()"
   ]
  },
  {
   "cell_type": "code",
   "execution_count": 35,
   "id": "1a5190c1",
   "metadata": {},
   "outputs": [
    {
     "data": {
      "text/plain": [
       "(98000, 14)"
      ]
     },
     "execution_count": 35,
     "metadata": {},
     "output_type": "execute_result"
    }
   ],
   "source": [
    "test.shape"
   ]
  },
  {
   "cell_type": "markdown",
   "id": "b0a6934f",
   "metadata": {},
   "source": [
    "# Apply Clustering Technique"
   ]
  },
  {
   "cell_type": "code",
   "execution_count": 36,
   "id": "5affde19",
   "metadata": {},
   "outputs": [],
   "source": [
    "from yellowbrick.cluster import KElbowVisualizer"
   ]
  },
  {
   "cell_type": "code",
   "execution_count": 43,
   "id": "c5a6760a",
   "metadata": {},
   "outputs": [],
   "source": [
    "from sklearn.cluster import KMeans"
   ]
  },
  {
   "cell_type": "code",
   "execution_count": 44,
   "id": "3162c09e",
   "metadata": {},
   "outputs": [],
   "source": [
    "model = KMeans()"
   ]
  },
  {
   "cell_type": "code",
   "execution_count": 41,
   "id": "9411c860",
   "metadata": {},
   "outputs": [
    {
     "data": {
      "image/png": "[encoded data removed]",
      "text/plain": [
       "<Figure size 576x396 with 2 Axes>"
      ]
     },
     "metadata": {},
     "output_type": "display_data"
    },
    {
     "data": {
      "text/plain": [
       "<AxesSubplot:title={'center':'Distortion Score Elbow for KMeans Clustering'}, xlabel='k', ylabel='distortion score'>"
      ]
     },
     "execution_count": 41,
     "metadata": {},
     "output_type": "execute_result"
    }
   ],
   "source": [
    "visualizer = KElbowVisualizer(model,k=(2,20),timings=True)\n",
    "visualizer.fit(X_train)\n",
    "visualizer.show()"
   ]
  },
  {
   "cell_type": "markdown",
   "id": "63bed00e",
   "metadata": {},
   "source": [
    "# BGMM(Bayesian Gaussian Mixture Models Clustering Algorithm)"
   ]
  },
  {
   "cell_type": "code",
   "execution_count": 37,
   "id": "6f831460",
   "metadata": {},
   "outputs": [],
   "source": [
    "from sklearn.mixture import BayesianGaussianMixture"
   ]
  },
  {
   "cell_type": "code",
   "execution_count": 38,
   "id": "b0ed18c1",
   "metadata": {},
   "outputs": [
    {
     "data": {
      "text/plain": [
       "BayesianGaussianMixture(max_iter=200, n_components=7, n_init=3, random_state=1)"
      ]
     },
     "execution_count": 38,
     "metadata": {},
     "output_type": "execute_result"
    }
   ],
   "source": [
    "bayesian_gmm = BayesianGaussianMixture(n_components=7,n_init=3,random_state=1,max_iter=200)\n",
    "bayesian_gmm.fit(X_train)"
   ]
  },
  {
   "cell_type": "code",
   "execution_count": 170,
   "id": "f60598a8",
   "metadata": {},
   "outputs": [],
   "source": [
    "pred=bayesian_gmm.predict(test)"
   ]
  },
  {
   "cell_type": "code",
   "execution_count": 171,
   "id": "e5590ba7",
   "metadata": {},
   "outputs": [],
   "source": [
    "pred_prob = bayesian_gmm.predict_proba(test)"
   ]
  },
  {
   "cell_type": "code",
   "execution_count": 172,
   "id": "9ebeb4db",
   "metadata": {},
   "outputs": [
    {
     "data": {
      "text/plain": [
       "array([[0.0033134487, 0.0025552127, 0.0004360739, ..., 0.0133019548,\n",
       "        0.0000005124, 0.9770206651],\n",
       "       [0.0174903034, 0.0285675961, 0.0033713673, ..., 0.9359050737,\n",
       "        0.0143509763, 0.0003055009],\n",
       "       [0.0000999515, 0.0000178089, 0.0014608731, ..., 0.0003439817,\n",
       "        0.0000000103, 0.8124187773],\n",
       "       ...,\n",
       "       [0.0010386428, 0.0003112512, 0.0336682941, ..., 0.0082676344,\n",
       "        0.0000915314, 0.0062332813],\n",
       "       [0.6985111329, 0.0379887976, 0.0004283837, ..., 0.0842269096,\n",
       "        0.0405847474, 0.0005392863],\n",
       "       [0.0516666379, 0.8125151888, 0.0000114578, ..., 0.000930365 ,\n",
       "        0.0000000643, 0.1348762823]])"
      ]
     },
     "execution_count": 172,
     "metadata": {},
     "output_type": "execute_result"
    }
   ],
   "source": [
    "np.set_printoptions(suppress=True,precision=10)\n",
    "pred_prob"
   ]
  },
  {
   "cell_type": "code",
   "execution_count": 173,
   "id": "91d76036",
   "metadata": {},
   "outputs": [
    {
     "data": {
      "text/plain": [
       "array([0.9770206651, 0.9359050737, 0.8124187773, ..., 0.9503893648,\n",
       "       0.6985111329, 0.8125151888])"
      ]
     },
     "execution_count": 173,
     "metadata": {},
     "output_type": "execute_result"
    }
   ],
   "source": [
    "pred_prob = np.max(pred_prob,axis=1)\n",
    "pred_prob"
   ]
  },
  {
   "cell_type": "code",
   "execution_count": 174,
   "id": "d6d36092",
   "metadata": {},
   "outputs": [],
   "source": [
    "pred_prob = pd.DataFrame(pred_prob,columns=['Predicted_prob'])"
   ]
  },
  {
   "cell_type": "code",
   "execution_count": 175,
   "id": "ace86b52",
   "metadata": {
    "scrolled": true
   },
   "outputs": [
    {
     "data": {
      "text/plain": [
       "98000"
      ]
     },
     "execution_count": 175,
     "metadata": {},
     "output_type": "execute_result"
    }
   ],
   "source": [
    "len(pred)"
   ]
  },
  {
   "cell_type": "code",
   "execution_count": 176,
   "id": "85b8e5e7",
   "metadata": {
    "scrolled": true
   },
   "outputs": [
    {
     "data": {
      "text/plain": [
       "0    0\n",
       "1    1\n",
       "2    2\n",
       "3    3\n",
       "4    4\n",
       "Name: id, dtype: int64"
      ]
     },
     "execution_count": 176,
     "metadata": {},
     "output_type": "execute_result"
    }
   ],
   "source": [
    "train_id.head()"
   ]
  },
  {
   "cell_type": "code",
   "execution_count": 177,
   "id": "bcfb58b1",
   "metadata": {},
   "outputs": [],
   "source": [
    "pred = pd.DataFrame(pred,columns=['Predicted'])"
   ]
  },
  {
   "cell_type": "code",
   "execution_count": 178,
   "id": "8b52893e",
   "metadata": {},
   "outputs": [],
   "source": [
    "submission_1_ = pd.concat([train_id,pred_prob,pred],axis=1)"
   ]
  },
  {
   "cell_type": "code",
   "execution_count": 179,
   "id": "24c4ed38",
   "metadata": {},
   "outputs": [
    {
     "data": {
      "text/html": [
       "<div>\n",
       "<style scoped>\n",
       "    .dataframe tbody tr th:only-of-type {\n",
       "        vertical-align: middle;\n",
       "    }\n",
       "\n",
       "    .dataframe tbody tr th {\n",
       "        vertical-align: top;\n",
       "    }\n",
       "\n",
       "    .dataframe thead th {\n",
       "        text-align: right;\n",
       "    }\n",
       "</style>\n",
       "<table border=\"1\" class=\"dataframe\">\n",
       "  <thead>\n",
       "    <tr style=\"text-align: right;\">\n",
       "      <th></th>\n",
       "      <th>id</th>\n",
       "      <th>Predicted_prob</th>\n",
       "      <th>Predicted</th>\n",
       "    </tr>\n",
       "  </thead>\n",
       "  <tbody>\n",
       "    <tr>\n",
       "      <th>0</th>\n",
       "      <td>0</td>\n",
       "      <td>0.977021</td>\n",
       "      <td>6</td>\n",
       "    </tr>\n",
       "    <tr>\n",
       "      <th>1</th>\n",
       "      <td>1</td>\n",
       "      <td>0.935905</td>\n",
       "      <td>4</td>\n",
       "    </tr>\n",
       "    <tr>\n",
       "      <th>2</th>\n",
       "      <td>2</td>\n",
       "      <td>0.812419</td>\n",
       "      <td>6</td>\n",
       "    </tr>\n",
       "    <tr>\n",
       "      <th>3</th>\n",
       "      <td>3</td>\n",
       "      <td>0.853832</td>\n",
       "      <td>5</td>\n",
       "    </tr>\n",
       "    <tr>\n",
       "      <th>4</th>\n",
       "      <td>4</td>\n",
       "      <td>0.979402</td>\n",
       "      <td>2</td>\n",
       "    </tr>\n",
       "    <tr>\n",
       "      <th>...</th>\n",
       "      <td>...</td>\n",
       "      <td>...</td>\n",
       "      <td>...</td>\n",
       "    </tr>\n",
       "    <tr>\n",
       "      <th>97995</th>\n",
       "      <td>97995</td>\n",
       "      <td>0.484719</td>\n",
       "      <td>4</td>\n",
       "    </tr>\n",
       "    <tr>\n",
       "      <th>97996</th>\n",
       "      <td>97996</td>\n",
       "      <td>0.540853</td>\n",
       "      <td>1</td>\n",
       "    </tr>\n",
       "    <tr>\n",
       "      <th>97997</th>\n",
       "      <td>97997</td>\n",
       "      <td>0.950389</td>\n",
       "      <td>3</td>\n",
       "    </tr>\n",
       "    <tr>\n",
       "      <th>97998</th>\n",
       "      <td>97998</td>\n",
       "      <td>0.698511</td>\n",
       "      <td>0</td>\n",
       "    </tr>\n",
       "    <tr>\n",
       "      <th>97999</th>\n",
       "      <td>97999</td>\n",
       "      <td>0.812515</td>\n",
       "      <td>1</td>\n",
       "    </tr>\n",
       "  </tbody>\n",
       "</table>\n",
       "<p>98000 rows × 3 columns</p>\n",
       "</div>"
      ],
      "text/plain": [
       "          id  Predicted_prob  Predicted\n",
       "0          0        0.977021          6\n",
       "1          1        0.935905          4\n",
       "2          2        0.812419          6\n",
       "3          3        0.853832          5\n",
       "4          4        0.979402          2\n",
       "...      ...             ...        ...\n",
       "97995  97995        0.484719          4\n",
       "97996  97996        0.540853          1\n",
       "97997  97997        0.950389          3\n",
       "97998  97998        0.698511          0\n",
       "97999  97999        0.812515          1\n",
       "\n",
       "[98000 rows x 3 columns]"
      ]
     },
     "execution_count": 179,
     "metadata": {},
     "output_type": "execute_result"
    }
   ],
   "source": [
    "submission_1_"
   ]
  },
  {
   "cell_type": "code",
   "execution_count": null,
   "id": "5f6c99dc",
   "metadata": {},
   "outputs": [],
   "source": []
  },
  {
   "cell_type": "code",
   "execution_count": 180,
   "id": "f7244363",
   "metadata": {},
   "outputs": [
    {
     "data": {
      "text/plain": [
       "<AxesSubplot:xlabel='Predicted', ylabel='count'>"
      ]
     },
     "execution_count": 180,
     "metadata": {},
     "output_type": "execute_result"
    },
    {
     "data": {
      "image/png": "[encoded data removed]",
      "text/plain": [
       "<Figure size 864x648 with 1 Axes>"
      ]
     },
     "metadata": {},
     "output_type": "display_data"
    }
   ],
   "source": [
    "plt.figure(figsize=(12,9))\n",
    "sns.countplot(x='Predicted',data=pred)"
   ]
  },
  {
   "cell_type": "markdown",
   "id": "38755d9b",
   "metadata": {},
   "source": [
    "# Supervised learning"
   ]
  },
  {
   "cell_type": "code",
   "execution_count": 181,
   "id": "80673e2d",
   "metadata": {},
   "outputs": [],
   "source": [
    "train = pd.read_csv('data.csv')"
   ]
  },
  {
   "cell_type": "code",
   "execution_count": 182,
   "id": "56283ede",
   "metadata": {},
   "outputs": [
    {
     "data": {
      "text/html": [
       "<div>\n",
       "<style scoped>\n",
       "    .dataframe tbody tr th:only-of-type {\n",
       "        vertical-align: middle;\n",
       "    }\n",
       "\n",
       "    .dataframe tbody tr th {\n",
       "        vertical-align: top;\n",
       "    }\n",
       "\n",
       "    .dataframe thead th {\n",
       "        text-align: right;\n",
       "    }\n",
       "</style>\n",
       "<table border=\"1\" class=\"dataframe\">\n",
       "  <thead>\n",
       "    <tr style=\"text-align: right;\">\n",
       "      <th></th>\n",
       "      <th>id</th>\n",
       "      <th>f_00</th>\n",
       "      <th>f_01</th>\n",
       "      <th>f_02</th>\n",
       "      <th>f_03</th>\n",
       "      <th>f_04</th>\n",
       "      <th>f_05</th>\n",
       "      <th>f_06</th>\n",
       "      <th>f_07</th>\n",
       "      <th>f_08</th>\n",
       "      <th>...</th>\n",
       "      <th>f_19</th>\n",
       "      <th>f_20</th>\n",
       "      <th>f_21</th>\n",
       "      <th>f_22</th>\n",
       "      <th>f_23</th>\n",
       "      <th>f_24</th>\n",
       "      <th>f_25</th>\n",
       "      <th>f_26</th>\n",
       "      <th>f_27</th>\n",
       "      <th>f_28</th>\n",
       "    </tr>\n",
       "  </thead>\n",
       "  <tbody>\n",
       "    <tr>\n",
       "      <th>0</th>\n",
       "      <td>0</td>\n",
       "      <td>-0.389420</td>\n",
       "      <td>-0.912791</td>\n",
       "      <td>0.648951</td>\n",
       "      <td>0.589045</td>\n",
       "      <td>-0.830817</td>\n",
       "      <td>0.733624</td>\n",
       "      <td>2.258560</td>\n",
       "      <td>2</td>\n",
       "      <td>13</td>\n",
       "      <td>...</td>\n",
       "      <td>-0.478412</td>\n",
       "      <td>-0.757002</td>\n",
       "      <td>-0.763635</td>\n",
       "      <td>-1.090369</td>\n",
       "      <td>1.142641</td>\n",
       "      <td>-0.884274</td>\n",
       "      <td>1.137896</td>\n",
       "      <td>1.309073</td>\n",
       "      <td>1.463002</td>\n",
       "      <td>0.813527</td>\n",
       "    </tr>\n",
       "    <tr>\n",
       "      <th>1</th>\n",
       "      <td>1</td>\n",
       "      <td>-0.689249</td>\n",
       "      <td>-0.453954</td>\n",
       "      <td>0.654175</td>\n",
       "      <td>0.995248</td>\n",
       "      <td>-1.653020</td>\n",
       "      <td>0.863810</td>\n",
       "      <td>-0.090651</td>\n",
       "      <td>2</td>\n",
       "      <td>3</td>\n",
       "      <td>...</td>\n",
       "      <td>-0.428791</td>\n",
       "      <td>-0.089908</td>\n",
       "      <td>-1.784204</td>\n",
       "      <td>-0.839474</td>\n",
       "      <td>0.459685</td>\n",
       "      <td>1.759412</td>\n",
       "      <td>-0.275422</td>\n",
       "      <td>-0.852168</td>\n",
       "      <td>0.562457</td>\n",
       "      <td>-2.680541</td>\n",
       "    </tr>\n",
       "    <tr>\n",
       "      <th>2</th>\n",
       "      <td>2</td>\n",
       "      <td>0.809079</td>\n",
       "      <td>0.324568</td>\n",
       "      <td>-1.170602</td>\n",
       "      <td>-0.624491</td>\n",
       "      <td>0.105448</td>\n",
       "      <td>0.783948</td>\n",
       "      <td>1.988301</td>\n",
       "      <td>5</td>\n",
       "      <td>11</td>\n",
       "      <td>...</td>\n",
       "      <td>-0.413534</td>\n",
       "      <td>-1.602377</td>\n",
       "      <td>1.190984</td>\n",
       "      <td>3.267116</td>\n",
       "      <td>-0.088322</td>\n",
       "      <td>-2.168635</td>\n",
       "      <td>-0.974989</td>\n",
       "      <td>1.335763</td>\n",
       "      <td>-1.110655</td>\n",
       "      <td>-3.630723</td>\n",
       "    </tr>\n",
       "    <tr>\n",
       "      <th>3</th>\n",
       "      <td>3</td>\n",
       "      <td>-0.500923</td>\n",
       "      <td>0.229049</td>\n",
       "      <td>0.264109</td>\n",
       "      <td>0.231520</td>\n",
       "      <td>0.415012</td>\n",
       "      <td>-1.221269</td>\n",
       "      <td>0.138850</td>\n",
       "      <td>6</td>\n",
       "      <td>2</td>\n",
       "      <td>...</td>\n",
       "      <td>0.619283</td>\n",
       "      <td>1.287801</td>\n",
       "      <td>0.532837</td>\n",
       "      <td>1.036631</td>\n",
       "      <td>-2.041828</td>\n",
       "      <td>1.440490</td>\n",
       "      <td>-1.900191</td>\n",
       "      <td>-0.630771</td>\n",
       "      <td>-0.050641</td>\n",
       "      <td>0.238333</td>\n",
       "    </tr>\n",
       "    <tr>\n",
       "      <th>4</th>\n",
       "      <td>4</td>\n",
       "      <td>-0.671268</td>\n",
       "      <td>-1.039533</td>\n",
       "      <td>-0.270155</td>\n",
       "      <td>-1.830264</td>\n",
       "      <td>-0.290108</td>\n",
       "      <td>-1.852809</td>\n",
       "      <td>0.781898</td>\n",
       "      <td>8</td>\n",
       "      <td>7</td>\n",
       "      <td>...</td>\n",
       "      <td>-1.628830</td>\n",
       "      <td>-0.434948</td>\n",
       "      <td>0.322505</td>\n",
       "      <td>0.284326</td>\n",
       "      <td>-2.438365</td>\n",
       "      <td>1.473930</td>\n",
       "      <td>-1.044684</td>\n",
       "      <td>1.602686</td>\n",
       "      <td>-0.405263</td>\n",
       "      <td>-1.987263</td>\n",
       "    </tr>\n",
       "  </tbody>\n",
       "</table>\n",
       "<p>5 rows × 30 columns</p>\n",
       "</div>"
      ],
      "text/plain": [
       "   id      f_00      f_01      f_02      f_03      f_04      f_05      f_06  \\\n",
       "0   0 -0.389420 -0.912791  0.648951  0.589045 -0.830817  0.733624  2.258560   \n",
       "1   1 -0.689249 -0.453954  0.654175  0.995248 -1.653020  0.863810 -0.090651   \n",
       "2   2  0.809079  0.324568 -1.170602 -0.624491  0.105448  0.783948  1.988301   \n",
       "3   3 -0.500923  0.229049  0.264109  0.231520  0.415012 -1.221269  0.138850   \n",
       "4   4 -0.671268 -1.039533 -0.270155 -1.830264 -0.290108 -1.852809  0.781898   \n",
       "\n",
       "   f_07  f_08  ...      f_19      f_20      f_21      f_22      f_23  \\\n",
       "0     2    13  ... -0.478412 -0.757002 -0.763635 -1.090369  1.142641   \n",
       "1     2     3  ... -0.428791 -0.089908 -1.784204 -0.839474  0.459685   \n",
       "2     5    11  ... -0.413534 -1.602377  1.190984  3.267116 -0.088322   \n",
       "3     6     2  ...  0.619283  1.287801  0.532837  1.036631 -2.041828   \n",
       "4     8     7  ... -1.628830 -0.434948  0.322505  0.284326 -2.438365   \n",
       "\n",
       "       f_24      f_25      f_26      f_27      f_28  \n",
       "0 -0.884274  1.137896  1.309073  1.463002  0.813527  \n",
       "1  1.759412 -0.275422 -0.852168  0.562457 -2.680541  \n",
       "2 -2.168635 -0.974989  1.335763 -1.110655 -3.630723  \n",
       "3  1.440490 -1.900191 -0.630771 -0.050641  0.238333  \n",
       "4  1.473930 -1.044684  1.602686 -0.405263 -1.987263  \n",
       "\n",
       "[5 rows x 30 columns]"
      ]
     },
     "execution_count": 182,
     "metadata": {},
     "output_type": "execute_result"
    }
   ],
   "source": [
    "train.head()"
   ]
  },
  {
   "cell_type": "code",
   "execution_count": 183,
   "id": "5f89c370",
   "metadata": {},
   "outputs": [],
   "source": [
    "test_df = train.copy()"
   ]
  },
  {
   "cell_type": "code",
   "execution_count": 184,
   "id": "162ae102",
   "metadata": {},
   "outputs": [],
   "source": [
    "test_df_id = test_df['id']"
   ]
  },
  {
   "cell_type": "code",
   "execution_count": 185,
   "id": "af398635",
   "metadata": {},
   "outputs": [],
   "source": [
    "test_df.drop('id',axis=1,inplace=True)"
   ]
  },
  {
   "cell_type": "code",
   "execution_count": 186,
   "id": "28bb0290",
   "metadata": {},
   "outputs": [
    {
     "data": {
      "text/plain": [
       "(98000, 29)"
      ]
     },
     "execution_count": 186,
     "metadata": {},
     "output_type": "execute_result"
    }
   ],
   "source": [
    "test_df.shape"
   ]
  },
  {
   "cell_type": "markdown",
   "id": "904ab1da",
   "metadata": {},
   "source": [
    "#### concat predicted prob and predicted class of each row"
   ]
  },
  {
   "cell_type": "code",
   "execution_count": 187,
   "id": "80f8d575",
   "metadata": {},
   "outputs": [],
   "source": [
    "train = pd.concat([train,submission_1_.drop('id',axis=1)],axis=1)"
   ]
  },
  {
   "cell_type": "code",
   "execution_count": 188,
   "id": "ae6eee0c",
   "metadata": {},
   "outputs": [
    {
     "data": {
      "text/html": [
       "<div>\n",
       "<style scoped>\n",
       "    .dataframe tbody tr th:only-of-type {\n",
       "        vertical-align: middle;\n",
       "    }\n",
       "\n",
       "    .dataframe tbody tr th {\n",
       "        vertical-align: top;\n",
       "    }\n",
       "\n",
       "    .dataframe thead th {\n",
       "        text-align: right;\n",
       "    }\n",
       "</style>\n",
       "<table border=\"1\" class=\"dataframe\">\n",
       "  <thead>\n",
       "    <tr style=\"text-align: right;\">\n",
       "      <th></th>\n",
       "      <th>id</th>\n",
       "      <th>f_00</th>\n",
       "      <th>f_01</th>\n",
       "      <th>f_02</th>\n",
       "      <th>f_03</th>\n",
       "      <th>f_04</th>\n",
       "      <th>f_05</th>\n",
       "      <th>f_06</th>\n",
       "      <th>f_07</th>\n",
       "      <th>f_08</th>\n",
       "      <th>...</th>\n",
       "      <th>f_21</th>\n",
       "      <th>f_22</th>\n",
       "      <th>f_23</th>\n",
       "      <th>f_24</th>\n",
       "      <th>f_25</th>\n",
       "      <th>f_26</th>\n",
       "      <th>f_27</th>\n",
       "      <th>f_28</th>\n",
       "      <th>Predicted_prob</th>\n",
       "      <th>Predicted</th>\n",
       "    </tr>\n",
       "  </thead>\n",
       "  <tbody>\n",
       "    <tr>\n",
       "      <th>0</th>\n",
       "      <td>0</td>\n",
       "      <td>-0.389420</td>\n",
       "      <td>-0.912791</td>\n",
       "      <td>0.648951</td>\n",
       "      <td>0.589045</td>\n",
       "      <td>-0.830817</td>\n",
       "      <td>0.733624</td>\n",
       "      <td>2.258560</td>\n",
       "      <td>2</td>\n",
       "      <td>13</td>\n",
       "      <td>...</td>\n",
       "      <td>-0.763635</td>\n",
       "      <td>-1.090369</td>\n",
       "      <td>1.142641</td>\n",
       "      <td>-0.884274</td>\n",
       "      <td>1.137896</td>\n",
       "      <td>1.309073</td>\n",
       "      <td>1.463002</td>\n",
       "      <td>0.813527</td>\n",
       "      <td>0.977021</td>\n",
       "      <td>6</td>\n",
       "    </tr>\n",
       "    <tr>\n",
       "      <th>1</th>\n",
       "      <td>1</td>\n",
       "      <td>-0.689249</td>\n",
       "      <td>-0.453954</td>\n",
       "      <td>0.654175</td>\n",
       "      <td>0.995248</td>\n",
       "      <td>-1.653020</td>\n",
       "      <td>0.863810</td>\n",
       "      <td>-0.090651</td>\n",
       "      <td>2</td>\n",
       "      <td>3</td>\n",
       "      <td>...</td>\n",
       "      <td>-1.784204</td>\n",
       "      <td>-0.839474</td>\n",
       "      <td>0.459685</td>\n",
       "      <td>1.759412</td>\n",
       "      <td>-0.275422</td>\n",
       "      <td>-0.852168</td>\n",
       "      <td>0.562457</td>\n",
       "      <td>-2.680541</td>\n",
       "      <td>0.935905</td>\n",
       "      <td>4</td>\n",
       "    </tr>\n",
       "    <tr>\n",
       "      <th>2</th>\n",
       "      <td>2</td>\n",
       "      <td>0.809079</td>\n",
       "      <td>0.324568</td>\n",
       "      <td>-1.170602</td>\n",
       "      <td>-0.624491</td>\n",
       "      <td>0.105448</td>\n",
       "      <td>0.783948</td>\n",
       "      <td>1.988301</td>\n",
       "      <td>5</td>\n",
       "      <td>11</td>\n",
       "      <td>...</td>\n",
       "      <td>1.190984</td>\n",
       "      <td>3.267116</td>\n",
       "      <td>-0.088322</td>\n",
       "      <td>-2.168635</td>\n",
       "      <td>-0.974989</td>\n",
       "      <td>1.335763</td>\n",
       "      <td>-1.110655</td>\n",
       "      <td>-3.630723</td>\n",
       "      <td>0.812419</td>\n",
       "      <td>6</td>\n",
       "    </tr>\n",
       "    <tr>\n",
       "      <th>3</th>\n",
       "      <td>3</td>\n",
       "      <td>-0.500923</td>\n",
       "      <td>0.229049</td>\n",
       "      <td>0.264109</td>\n",
       "      <td>0.231520</td>\n",
       "      <td>0.415012</td>\n",
       "      <td>-1.221269</td>\n",
       "      <td>0.138850</td>\n",
       "      <td>6</td>\n",
       "      <td>2</td>\n",
       "      <td>...</td>\n",
       "      <td>0.532837</td>\n",
       "      <td>1.036631</td>\n",
       "      <td>-2.041828</td>\n",
       "      <td>1.440490</td>\n",
       "      <td>-1.900191</td>\n",
       "      <td>-0.630771</td>\n",
       "      <td>-0.050641</td>\n",
       "      <td>0.238333</td>\n",
       "      <td>0.853832</td>\n",
       "      <td>5</td>\n",
       "    </tr>\n",
       "    <tr>\n",
       "      <th>4</th>\n",
       "      <td>4</td>\n",
       "      <td>-0.671268</td>\n",
       "      <td>-1.039533</td>\n",
       "      <td>-0.270155</td>\n",
       "      <td>-1.830264</td>\n",
       "      <td>-0.290108</td>\n",
       "      <td>-1.852809</td>\n",
       "      <td>0.781898</td>\n",
       "      <td>8</td>\n",
       "      <td>7</td>\n",
       "      <td>...</td>\n",
       "      <td>0.322505</td>\n",
       "      <td>0.284326</td>\n",
       "      <td>-2.438365</td>\n",
       "      <td>1.473930</td>\n",
       "      <td>-1.044684</td>\n",
       "      <td>1.602686</td>\n",
       "      <td>-0.405263</td>\n",
       "      <td>-1.987263</td>\n",
       "      <td>0.979402</td>\n",
       "      <td>2</td>\n",
       "    </tr>\n",
       "    <tr>\n",
       "      <th>...</th>\n",
       "      <td>...</td>\n",
       "      <td>...</td>\n",
       "      <td>...</td>\n",
       "      <td>...</td>\n",
       "      <td>...</td>\n",
       "      <td>...</td>\n",
       "      <td>...</td>\n",
       "      <td>...</td>\n",
       "      <td>...</td>\n",
       "      <td>...</td>\n",
       "      <td>...</td>\n",
       "      <td>...</td>\n",
       "      <td>...</td>\n",
       "      <td>...</td>\n",
       "      <td>...</td>\n",
       "      <td>...</td>\n",
       "      <td>...</td>\n",
       "      <td>...</td>\n",
       "      <td>...</td>\n",
       "      <td>...</td>\n",
       "      <td>...</td>\n",
       "    </tr>\n",
       "    <tr>\n",
       "      <th>97995</th>\n",
       "      <td>97995</td>\n",
       "      <td>0.237591</td>\n",
       "      <td>1.657034</td>\n",
       "      <td>-0.689282</td>\n",
       "      <td>0.313710</td>\n",
       "      <td>-0.299039</td>\n",
       "      <td>0.329139</td>\n",
       "      <td>1.607378</td>\n",
       "      <td>5</td>\n",
       "      <td>7</td>\n",
       "      <td>...</td>\n",
       "      <td>-0.973640</td>\n",
       "      <td>1.369508</td>\n",
       "      <td>0.391055</td>\n",
       "      <td>2.152426</td>\n",
       "      <td>-0.208944</td>\n",
       "      <td>-1.475403</td>\n",
       "      <td>0.298448</td>\n",
       "      <td>0.445039</td>\n",
       "      <td>0.484719</td>\n",
       "      <td>4</td>\n",
       "    </tr>\n",
       "    <tr>\n",
       "      <th>97996</th>\n",
       "      <td>97996</td>\n",
       "      <td>0.322696</td>\n",
       "      <td>0.710411</td>\n",
       "      <td>0.562625</td>\n",
       "      <td>-1.321713</td>\n",
       "      <td>-0.357708</td>\n",
       "      <td>0.182024</td>\n",
       "      <td>0.178558</td>\n",
       "      <td>3</td>\n",
       "      <td>9</td>\n",
       "      <td>...</td>\n",
       "      <td>0.342400</td>\n",
       "      <td>1.680537</td>\n",
       "      <td>-0.860409</td>\n",
       "      <td>0.579165</td>\n",
       "      <td>1.162692</td>\n",
       "      <td>0.134994</td>\n",
       "      <td>0.994666</td>\n",
       "      <td>0.727642</td>\n",
       "      <td>0.540853</td>\n",
       "      <td>1</td>\n",
       "    </tr>\n",
       "    <tr>\n",
       "      <th>97997</th>\n",
       "      <td>97997</td>\n",
       "      <td>-0.249364</td>\n",
       "      <td>-0.459545</td>\n",
       "      <td>1.886122</td>\n",
       "      <td>-1.340310</td>\n",
       "      <td>0.195029</td>\n",
       "      <td>-0.559520</td>\n",
       "      <td>-0.379767</td>\n",
       "      <td>8</td>\n",
       "      <td>9</td>\n",
       "      <td>...</td>\n",
       "      <td>-1.268115</td>\n",
       "      <td>-1.508330</td>\n",
       "      <td>1.945622</td>\n",
       "      <td>1.503645</td>\n",
       "      <td>0.194968</td>\n",
       "      <td>2.142693</td>\n",
       "      <td>1.646042</td>\n",
       "      <td>0.641466</td>\n",
       "      <td>0.950389</td>\n",
       "      <td>3</td>\n",
       "    </tr>\n",
       "    <tr>\n",
       "      <th>97998</th>\n",
       "      <td>97998</td>\n",
       "      <td>0.311408</td>\n",
       "      <td>2.185237</td>\n",
       "      <td>0.761367</td>\n",
       "      <td>0.436723</td>\n",
       "      <td>0.464967</td>\n",
       "      <td>0.062321</td>\n",
       "      <td>-0.334025</td>\n",
       "      <td>1</td>\n",
       "      <td>8</td>\n",
       "      <td>...</td>\n",
       "      <td>1.565765</td>\n",
       "      <td>0.358480</td>\n",
       "      <td>0.547615</td>\n",
       "      <td>1.224439</td>\n",
       "      <td>-0.537998</td>\n",
       "      <td>-1.610954</td>\n",
       "      <td>-0.616227</td>\n",
       "      <td>-0.066211</td>\n",
       "      <td>0.698511</td>\n",
       "      <td>0</td>\n",
       "    </tr>\n",
       "    <tr>\n",
       "      <th>97999</th>\n",
       "      <td>97999</td>\n",
       "      <td>0.755170</td>\n",
       "      <td>0.567483</td>\n",
       "      <td>1.456767</td>\n",
       "      <td>-0.579071</td>\n",
       "      <td>-0.048474</td>\n",
       "      <td>-1.206240</td>\n",
       "      <td>0.784305</td>\n",
       "      <td>0</td>\n",
       "      <td>11</td>\n",
       "      <td>...</td>\n",
       "      <td>-1.368680</td>\n",
       "      <td>-2.465425</td>\n",
       "      <td>1.453582</td>\n",
       "      <td>-1.685122</td>\n",
       "      <td>0.129689</td>\n",
       "      <td>-0.970897</td>\n",
       "      <td>1.404988</td>\n",
       "      <td>-0.711098</td>\n",
       "      <td>0.812515</td>\n",
       "      <td>1</td>\n",
       "    </tr>\n",
       "  </tbody>\n",
       "</table>\n",
       "<p>98000 rows × 32 columns</p>\n",
       "</div>"
      ],
      "text/plain": [
       "          id      f_00      f_01      f_02      f_03      f_04      f_05  \\\n",
       "0          0 -0.389420 -0.912791  0.648951  0.589045 -0.830817  0.733624   \n",
       "1          1 -0.689249 -0.453954  0.654175  0.995248 -1.653020  0.863810   \n",
       "2          2  0.809079  0.324568 -1.170602 -0.624491  0.105448  0.783948   \n",
       "3          3 -0.500923  0.229049  0.264109  0.231520  0.415012 -1.221269   \n",
       "4          4 -0.671268 -1.039533 -0.270155 -1.830264 -0.290108 -1.852809   \n",
       "...      ...       ...       ...       ...       ...       ...       ...   \n",
       "97995  97995  0.237591  1.657034 -0.689282  0.313710 -0.299039  0.329139   \n",
       "97996  97996  0.322696  0.710411  0.562625 -1.321713 -0.357708  0.182024   \n",
       "97997  97997 -0.249364 -0.459545  1.886122 -1.340310  0.195029 -0.559520   \n",
       "97998  97998  0.311408  2.185237  0.761367  0.436723  0.464967  0.062321   \n",
       "97999  97999  0.755170  0.567483  1.456767 -0.579071 -0.048474 -1.206240   \n",
       "\n",
       "           f_06  f_07  f_08  ...      f_21      f_22      f_23      f_24  \\\n",
       "0      2.258560     2    13  ... -0.763635 -1.090369  1.142641 -0.884274   \n",
       "1     -0.090651     2     3  ... -1.784204 -0.839474  0.459685  1.759412   \n",
       "2      1.988301     5    11  ...  1.190984  3.267116 -0.088322 -2.168635   \n",
       "3      0.138850     6     2  ...  0.532837  1.036631 -2.041828  1.440490   \n",
       "4      0.781898     8     7  ...  0.322505  0.284326 -2.438365  1.473930   \n",
       "...         ...   ...   ...  ...       ...       ...       ...       ...   \n",
       "97995  1.607378     5     7  ... -0.973640  1.369508  0.391055  2.152426   \n",
       "97996  0.178558     3     9  ...  0.342400  1.680537 -0.860409  0.579165   \n",
       "97997 -0.379767     8     9  ... -1.268115 -1.508330  1.945622  1.503645   \n",
       "97998 -0.334025     1     8  ...  1.565765  0.358480  0.547615  1.224439   \n",
       "97999  0.784305     0    11  ... -1.368680 -2.465425  1.453582 -1.685122   \n",
       "\n",
       "           f_25      f_26      f_27      f_28  Predicted_prob  Predicted  \n",
       "0      1.137896  1.309073  1.463002  0.813527        0.977021          6  \n",
       "1     -0.275422 -0.852168  0.562457 -2.680541        0.935905          4  \n",
       "2     -0.974989  1.335763 -1.110655 -3.630723        0.812419          6  \n",
       "3     -1.900191 -0.630771 -0.050641  0.238333        0.853832          5  \n",
       "4     -1.044684  1.602686 -0.405263 -1.987263        0.979402          2  \n",
       "...         ...       ...       ...       ...             ...        ...  \n",
       "97995 -0.208944 -1.475403  0.298448  0.445039        0.484719          4  \n",
       "97996  1.162692  0.134994  0.994666  0.727642        0.540853          1  \n",
       "97997  0.194968  2.142693  1.646042  0.641466        0.950389          3  \n",
       "97998 -0.537998 -1.610954 -0.616227 -0.066211        0.698511          0  \n",
       "97999  0.129689 -0.970897  1.404988 -0.711098        0.812515          1  \n",
       "\n",
       "[98000 rows x 32 columns]"
      ]
     },
     "execution_count": 188,
     "metadata": {},
     "output_type": "execute_result"
    }
   ],
   "source": [
    "train"
   ]
  },
  {
   "cell_type": "code",
   "execution_count": 189,
   "id": "1e53d0e6",
   "metadata": {},
   "outputs": [],
   "source": [
    "train_df = train[train['Predicted_prob']>=0.85].copy()"
   ]
  },
  {
   "cell_type": "code",
   "execution_count": 190,
   "id": "8729594f",
   "metadata": {},
   "outputs": [
    {
     "data": {
      "text/plain": [
       "(56424, 32)"
      ]
     },
     "execution_count": 190,
     "metadata": {},
     "output_type": "execute_result"
    }
   ],
   "source": [
    "train_df.shape"
   ]
  },
  {
   "cell_type": "markdown",
   "id": "6f2f4f56",
   "metadata": {},
   "source": [
    "# feature Engineering on train_df"
   ]
  },
  {
   "cell_type": "code",
   "execution_count": 192,
   "id": "6764bf6a",
   "metadata": {},
   "outputs": [],
   "source": [
    "train_df.drop(['id','Predicted_prob'],axis=1,inplace=True)"
   ]
  },
  {
   "cell_type": "code",
   "execution_count": 193,
   "id": "b358ff60",
   "metadata": {},
   "outputs": [
    {
     "data": {
      "text/html": [
       "<div>\n",
       "<style scoped>\n",
       "    .dataframe tbody tr th:only-of-type {\n",
       "        vertical-align: middle;\n",
       "    }\n",
       "\n",
       "    .dataframe tbody tr th {\n",
       "        vertical-align: top;\n",
       "    }\n",
       "\n",
       "    .dataframe thead th {\n",
       "        text-align: right;\n",
       "    }\n",
       "</style>\n",
       "<table border=\"1\" class=\"dataframe\">\n",
       "  <thead>\n",
       "    <tr style=\"text-align: right;\">\n",
       "      <th></th>\n",
       "      <th>f_00</th>\n",
       "      <th>f_01</th>\n",
       "      <th>f_02</th>\n",
       "      <th>f_03</th>\n",
       "      <th>f_04</th>\n",
       "      <th>f_05</th>\n",
       "      <th>f_06</th>\n",
       "      <th>f_07</th>\n",
       "      <th>f_08</th>\n",
       "      <th>f_09</th>\n",
       "      <th>...</th>\n",
       "      <th>f_20</th>\n",
       "      <th>f_21</th>\n",
       "      <th>f_22</th>\n",
       "      <th>f_23</th>\n",
       "      <th>f_24</th>\n",
       "      <th>f_25</th>\n",
       "      <th>f_26</th>\n",
       "      <th>f_27</th>\n",
       "      <th>f_28</th>\n",
       "      <th>Predicted</th>\n",
       "    </tr>\n",
       "  </thead>\n",
       "  <tbody>\n",
       "    <tr>\n",
       "      <th>0</th>\n",
       "      <td>-0.389420</td>\n",
       "      <td>-0.912791</td>\n",
       "      <td>0.648951</td>\n",
       "      <td>0.589045</td>\n",
       "      <td>-0.830817</td>\n",
       "      <td>0.733624</td>\n",
       "      <td>2.258560</td>\n",
       "      <td>2</td>\n",
       "      <td>13</td>\n",
       "      <td>14</td>\n",
       "      <td>...</td>\n",
       "      <td>-0.757002</td>\n",
       "      <td>-0.763635</td>\n",
       "      <td>-1.090369</td>\n",
       "      <td>1.142641</td>\n",
       "      <td>-0.884274</td>\n",
       "      <td>1.137896</td>\n",
       "      <td>1.309073</td>\n",
       "      <td>1.463002</td>\n",
       "      <td>0.813527</td>\n",
       "      <td>6</td>\n",
       "    </tr>\n",
       "    <tr>\n",
       "      <th>1</th>\n",
       "      <td>-0.689249</td>\n",
       "      <td>-0.453954</td>\n",
       "      <td>0.654175</td>\n",
       "      <td>0.995248</td>\n",
       "      <td>-1.653020</td>\n",
       "      <td>0.863810</td>\n",
       "      <td>-0.090651</td>\n",
       "      <td>2</td>\n",
       "      <td>3</td>\n",
       "      <td>6</td>\n",
       "      <td>...</td>\n",
       "      <td>-0.089908</td>\n",
       "      <td>-1.784204</td>\n",
       "      <td>-0.839474</td>\n",
       "      <td>0.459685</td>\n",
       "      <td>1.759412</td>\n",
       "      <td>-0.275422</td>\n",
       "      <td>-0.852168</td>\n",
       "      <td>0.562457</td>\n",
       "      <td>-2.680541</td>\n",
       "      <td>4</td>\n",
       "    </tr>\n",
       "    <tr>\n",
       "      <th>3</th>\n",
       "      <td>-0.500923</td>\n",
       "      <td>0.229049</td>\n",
       "      <td>0.264109</td>\n",
       "      <td>0.231520</td>\n",
       "      <td>0.415012</td>\n",
       "      <td>-1.221269</td>\n",
       "      <td>0.138850</td>\n",
       "      <td>6</td>\n",
       "      <td>2</td>\n",
       "      <td>13</td>\n",
       "      <td>...</td>\n",
       "      <td>1.287801</td>\n",
       "      <td>0.532837</td>\n",
       "      <td>1.036631</td>\n",
       "      <td>-2.041828</td>\n",
       "      <td>1.440490</td>\n",
       "      <td>-1.900191</td>\n",
       "      <td>-0.630771</td>\n",
       "      <td>-0.050641</td>\n",
       "      <td>0.238333</td>\n",
       "      <td>5</td>\n",
       "    </tr>\n",
       "    <tr>\n",
       "      <th>4</th>\n",
       "      <td>-0.671268</td>\n",
       "      <td>-1.039533</td>\n",
       "      <td>-0.270155</td>\n",
       "      <td>-1.830264</td>\n",
       "      <td>-0.290108</td>\n",
       "      <td>-1.852809</td>\n",
       "      <td>0.781898</td>\n",
       "      <td>8</td>\n",
       "      <td>7</td>\n",
       "      <td>5</td>\n",
       "      <td>...</td>\n",
       "      <td>-0.434948</td>\n",
       "      <td>0.322505</td>\n",
       "      <td>0.284326</td>\n",
       "      <td>-2.438365</td>\n",
       "      <td>1.473930</td>\n",
       "      <td>-1.044684</td>\n",
       "      <td>1.602686</td>\n",
       "      <td>-0.405263</td>\n",
       "      <td>-1.987263</td>\n",
       "      <td>2</td>\n",
       "    </tr>\n",
       "    <tr>\n",
       "      <th>6</th>\n",
       "      <td>-0.096137</td>\n",
       "      <td>-0.247528</td>\n",
       "      <td>-0.642176</td>\n",
       "      <td>-0.534849</td>\n",
       "      <td>1.051045</td>\n",
       "      <td>0.257412</td>\n",
       "      <td>-2.129200</td>\n",
       "      <td>2</td>\n",
       "      <td>2</td>\n",
       "      <td>17</td>\n",
       "      <td>...</td>\n",
       "      <td>-1.789098</td>\n",
       "      <td>0.639049</td>\n",
       "      <td>-0.798952</td>\n",
       "      <td>-2.081934</td>\n",
       "      <td>0.628047</td>\n",
       "      <td>-2.463677</td>\n",
       "      <td>0.567283</td>\n",
       "      <td>0.159789</td>\n",
       "      <td>1.488937</td>\n",
       "      <td>5</td>\n",
       "    </tr>\n",
       "    <tr>\n",
       "      <th>...</th>\n",
       "      <td>...</td>\n",
       "      <td>...</td>\n",
       "      <td>...</td>\n",
       "      <td>...</td>\n",
       "      <td>...</td>\n",
       "      <td>...</td>\n",
       "      <td>...</td>\n",
       "      <td>...</td>\n",
       "      <td>...</td>\n",
       "      <td>...</td>\n",
       "      <td>...</td>\n",
       "      <td>...</td>\n",
       "      <td>...</td>\n",
       "      <td>...</td>\n",
       "      <td>...</td>\n",
       "      <td>...</td>\n",
       "      <td>...</td>\n",
       "      <td>...</td>\n",
       "      <td>...</td>\n",
       "      <td>...</td>\n",
       "      <td>...</td>\n",
       "    </tr>\n",
       "    <tr>\n",
       "      <th>97991</th>\n",
       "      <td>-0.303708</td>\n",
       "      <td>-0.797879</td>\n",
       "      <td>-0.772272</td>\n",
       "      <td>1.442967</td>\n",
       "      <td>1.389905</td>\n",
       "      <td>0.978757</td>\n",
       "      <td>-0.139647</td>\n",
       "      <td>6</td>\n",
       "      <td>12</td>\n",
       "      <td>2</td>\n",
       "      <td>...</td>\n",
       "      <td>2.682888</td>\n",
       "      <td>1.025655</td>\n",
       "      <td>-0.218533</td>\n",
       "      <td>-1.667824</td>\n",
       "      <td>1.469269</td>\n",
       "      <td>-0.011283</td>\n",
       "      <td>0.153440</td>\n",
       "      <td>-1.347242</td>\n",
       "      <td>-0.929179</td>\n",
       "      <td>6</td>\n",
       "    </tr>\n",
       "    <tr>\n",
       "      <th>97992</th>\n",
       "      <td>0.685776</td>\n",
       "      <td>-1.115344</td>\n",
       "      <td>0.356880</td>\n",
       "      <td>2.667240</td>\n",
       "      <td>-1.031307</td>\n",
       "      <td>1.651698</td>\n",
       "      <td>0.176495</td>\n",
       "      <td>3</td>\n",
       "      <td>9</td>\n",
       "      <td>5</td>\n",
       "      <td>...</td>\n",
       "      <td>-0.188834</td>\n",
       "      <td>-0.689030</td>\n",
       "      <td>0.025810</td>\n",
       "      <td>-0.587674</td>\n",
       "      <td>1.321239</td>\n",
       "      <td>-0.688175</td>\n",
       "      <td>1.591827</td>\n",
       "      <td>-1.470399</td>\n",
       "      <td>-1.943973</td>\n",
       "      <td>0</td>\n",
       "    </tr>\n",
       "    <tr>\n",
       "      <th>97993</th>\n",
       "      <td>-0.388822</td>\n",
       "      <td>-1.500236</td>\n",
       "      <td>-1.192212</td>\n",
       "      <td>0.352719</td>\n",
       "      <td>-1.789202</td>\n",
       "      <td>-0.646944</td>\n",
       "      <td>0.616359</td>\n",
       "      <td>7</td>\n",
       "      <td>5</td>\n",
       "      <td>9</td>\n",
       "      <td>...</td>\n",
       "      <td>-1.896270</td>\n",
       "      <td>0.443691</td>\n",
       "      <td>-1.473671</td>\n",
       "      <td>0.080730</td>\n",
       "      <td>2.202357</td>\n",
       "      <td>1.207277</td>\n",
       "      <td>0.798196</td>\n",
       "      <td>0.892548</td>\n",
       "      <td>-0.660606</td>\n",
       "      <td>3</td>\n",
       "    </tr>\n",
       "    <tr>\n",
       "      <th>97994</th>\n",
       "      <td>0.098658</td>\n",
       "      <td>-0.173168</td>\n",
       "      <td>-0.522142</td>\n",
       "      <td>-0.413573</td>\n",
       "      <td>0.409069</td>\n",
       "      <td>-0.273339</td>\n",
       "      <td>-0.579293</td>\n",
       "      <td>9</td>\n",
       "      <td>0</td>\n",
       "      <td>3</td>\n",
       "      <td>...</td>\n",
       "      <td>-0.234113</td>\n",
       "      <td>0.898987</td>\n",
       "      <td>0.156710</td>\n",
       "      <td>-2.759610</td>\n",
       "      <td>-3.797999</td>\n",
       "      <td>1.122025</td>\n",
       "      <td>-0.353271</td>\n",
       "      <td>1.036779</td>\n",
       "      <td>0.582197</td>\n",
       "      <td>4</td>\n",
       "    </tr>\n",
       "    <tr>\n",
       "      <th>97997</th>\n",
       "      <td>-0.249364</td>\n",
       "      <td>-0.459545</td>\n",
       "      <td>1.886122</td>\n",
       "      <td>-1.340310</td>\n",
       "      <td>0.195029</td>\n",
       "      <td>-0.559520</td>\n",
       "      <td>-0.379767</td>\n",
       "      <td>8</td>\n",
       "      <td>9</td>\n",
       "      <td>10</td>\n",
       "      <td>...</td>\n",
       "      <td>-1.787648</td>\n",
       "      <td>-1.268115</td>\n",
       "      <td>-1.508330</td>\n",
       "      <td>1.945622</td>\n",
       "      <td>1.503645</td>\n",
       "      <td>0.194968</td>\n",
       "      <td>2.142693</td>\n",
       "      <td>1.646042</td>\n",
       "      <td>0.641466</td>\n",
       "      <td>3</td>\n",
       "    </tr>\n",
       "  </tbody>\n",
       "</table>\n",
       "<p>56424 rows × 30 columns</p>\n",
       "</div>"
      ],
      "text/plain": [
       "           f_00      f_01      f_02      f_03      f_04      f_05      f_06  \\\n",
       "0     -0.389420 -0.912791  0.648951  0.589045 -0.830817  0.733624  2.258560   \n",
       "1     -0.689249 -0.453954  0.654175  0.995248 -1.653020  0.863810 -0.090651   \n",
       "3     -0.500923  0.229049  0.264109  0.231520  0.415012 -1.221269  0.138850   \n",
       "4     -0.671268 -1.039533 -0.270155 -1.830264 -0.290108 -1.852809  0.781898   \n",
       "6     -0.096137 -0.247528 -0.642176 -0.534849  1.051045  0.257412 -2.129200   \n",
       "...         ...       ...       ...       ...       ...       ...       ...   \n",
       "97991 -0.303708 -0.797879 -0.772272  1.442967  1.389905  0.978757 -0.139647   \n",
       "97992  0.685776 -1.115344  0.356880  2.667240 -1.031307  1.651698  0.176495   \n",
       "97993 -0.388822 -1.500236 -1.192212  0.352719 -1.789202 -0.646944  0.616359   \n",
       "97994  0.098658 -0.173168 -0.522142 -0.413573  0.409069 -0.273339 -0.579293   \n",
       "97997 -0.249364 -0.459545  1.886122 -1.340310  0.195029 -0.559520 -0.379767   \n",
       "\n",
       "       f_07  f_08  f_09  ...      f_20      f_21      f_22      f_23  \\\n",
       "0         2    13    14  ... -0.757002 -0.763635 -1.090369  1.142641   \n",
       "1         2     3     6  ... -0.089908 -1.784204 -0.839474  0.459685   \n",
       "3         6     2    13  ...  1.287801  0.532837  1.036631 -2.041828   \n",
       "4         8     7     5  ... -0.434948  0.322505  0.284326 -2.438365   \n",
       "6         2     2    17  ... -1.789098  0.639049 -0.798952 -2.081934   \n",
       "...     ...   ...   ...  ...       ...       ...       ...       ...   \n",
       "97991     6    12     2  ...  2.682888  1.025655 -0.218533 -1.667824   \n",
       "97992     3     9     5  ... -0.188834 -0.689030  0.025810 -0.587674   \n",
       "97993     7     5     9  ... -1.896270  0.443691 -1.473671  0.080730   \n",
       "97994     9     0     3  ... -0.234113  0.898987  0.156710 -2.759610   \n",
       "97997     8     9    10  ... -1.787648 -1.268115 -1.508330  1.945622   \n",
       "\n",
       "           f_24      f_25      f_26      f_27      f_28  Predicted  \n",
       "0     -0.884274  1.137896  1.309073  1.463002  0.813527          6  \n",
       "1      1.759412 -0.275422 -0.852168  0.562457 -2.680541          4  \n",
       "3      1.440490 -1.900191 -0.630771 -0.050641  0.238333          5  \n",
       "4      1.473930 -1.044684  1.602686 -0.405263 -1.987263          2  \n",
       "6      0.628047 -2.463677  0.567283  0.159789  1.488937          5  \n",
       "...         ...       ...       ...       ...       ...        ...  \n",
       "97991  1.469269 -0.011283  0.153440 -1.347242 -0.929179          6  \n",
       "97992  1.321239 -0.688175  1.591827 -1.470399 -1.943973          0  \n",
       "97993  2.202357  1.207277  0.798196  0.892548 -0.660606          3  \n",
       "97994 -3.797999  1.122025 -0.353271  1.036779  0.582197          4  \n",
       "97997  1.503645  0.194968  2.142693  1.646042  0.641466          3  \n",
       "\n",
       "[56424 rows x 30 columns]"
      ]
     },
     "execution_count": 193,
     "metadata": {},
     "output_type": "execute_result"
    }
   ],
   "source": [
    "train_df"
   ]
  },
  {
   "cell_type": "code",
   "execution_count": 194,
   "id": "64e933fe",
   "metadata": {},
   "outputs": [
    {
     "data": {
      "text/plain": [
       "5    10225\n",
       "3     9655\n",
       "2     8930\n",
       "6     8830\n",
       "1     8385\n",
       "0     6731\n",
       "4     3668\n",
       "Name: Predicted, dtype: int64"
      ]
     },
     "execution_count": 194,
     "metadata": {},
     "output_type": "execute_result"
    }
   ],
   "source": [
    "train_df['Predicted'].value_counts()"
   ]
  },
  {
   "cell_type": "code",
   "execution_count": 195,
   "id": "875991e4",
   "metadata": {},
   "outputs": [
    {
     "data": {
      "text/plain": [
       "(56424, 30)"
      ]
     },
     "execution_count": 195,
     "metadata": {},
     "output_type": "execute_result"
    }
   ],
   "source": [
    "train_df.shape"
   ]
  },
  {
   "cell_type": "code",
   "execution_count": 196,
   "id": "9b7e18c8",
   "metadata": {},
   "outputs": [],
   "source": [
    "#Using Power transform on data to make distribution as Gausion like\n",
    "from sklearn.preprocessing import PowerTransformer"
   ]
  },
  {
   "cell_type": "code",
   "execution_count": 197,
   "id": "125645a9",
   "metadata": {},
   "outputs": [],
   "source": [
    "pow_scaler = PowerTransformer()"
   ]
  },
  {
   "cell_type": "code",
   "execution_count": 198,
   "id": "dcdaff9e",
   "metadata": {},
   "outputs": [],
   "source": [
    "train_df[num_feature] = pow_scaler.fit_transform(train_df[num_feature])"
   ]
  },
  {
   "cell_type": "code",
   "execution_count": 199,
   "id": "c0375fe2",
   "metadata": {},
   "outputs": [
    {
     "data": {
      "text/html": [
       "<div>\n",
       "<style scoped>\n",
       "    .dataframe tbody tr th:only-of-type {\n",
       "        vertical-align: middle;\n",
       "    }\n",
       "\n",
       "    .dataframe tbody tr th {\n",
       "        vertical-align: top;\n",
       "    }\n",
       "\n",
       "    .dataframe thead th {\n",
       "        text-align: right;\n",
       "    }\n",
       "</style>\n",
       "<table border=\"1\" class=\"dataframe\">\n",
       "  <thead>\n",
       "    <tr style=\"text-align: right;\">\n",
       "      <th></th>\n",
       "      <th>f_00</th>\n",
       "      <th>f_01</th>\n",
       "      <th>f_02</th>\n",
       "      <th>f_03</th>\n",
       "      <th>f_04</th>\n",
       "      <th>f_05</th>\n",
       "      <th>f_06</th>\n",
       "      <th>f_07</th>\n",
       "      <th>f_08</th>\n",
       "      <th>f_09</th>\n",
       "      <th>...</th>\n",
       "      <th>f_20</th>\n",
       "      <th>f_21</th>\n",
       "      <th>f_22</th>\n",
       "      <th>f_23</th>\n",
       "      <th>f_24</th>\n",
       "      <th>f_25</th>\n",
       "      <th>f_26</th>\n",
       "      <th>f_27</th>\n",
       "      <th>f_28</th>\n",
       "      <th>Predicted</th>\n",
       "    </tr>\n",
       "  </thead>\n",
       "  <tbody>\n",
       "    <tr>\n",
       "      <th>0</th>\n",
       "      <td>-0.388215</td>\n",
       "      <td>-0.915648</td>\n",
       "      <td>0.648630</td>\n",
       "      <td>0.594704</td>\n",
       "      <td>-0.826335</td>\n",
       "      <td>0.733203</td>\n",
       "      <td>2.253873</td>\n",
       "      <td>-0.842849</td>\n",
       "      <td>1.318969</td>\n",
       "      <td>0.866500</td>\n",
       "      <td>...</td>\n",
       "      <td>-0.753294</td>\n",
       "      <td>-0.760182</td>\n",
       "      <td>-0.666150</td>\n",
       "      <td>0.861539</td>\n",
       "      <td>-0.671803</td>\n",
       "      <td>0.721293</td>\n",
       "      <td>0.882262</td>\n",
       "      <td>0.987938</td>\n",
       "      <td>0.639901</td>\n",
       "      <td>6</td>\n",
       "    </tr>\n",
       "    <tr>\n",
       "      <th>1</th>\n",
       "      <td>-0.687159</td>\n",
       "      <td>-0.456494</td>\n",
       "      <td>0.653869</td>\n",
       "      <td>0.997119</td>\n",
       "      <td>-1.645988</td>\n",
       "      <td>0.862945</td>\n",
       "      <td>-0.086587</td>\n",
       "      <td>-0.842849</td>\n",
       "      <td>-0.759039</td>\n",
       "      <td>-0.244528</td>\n",
       "      <td>...</td>\n",
       "      <td>-0.086670</td>\n",
       "      <td>-1.766854</td>\n",
       "      <td>-0.502101</td>\n",
       "      <td>0.427196</td>\n",
       "      <td>0.992526</td>\n",
       "      <td>-0.132519</td>\n",
       "      <td>-0.491353</td>\n",
       "      <td>0.354761</td>\n",
       "      <td>-1.577164</td>\n",
       "      <td>4</td>\n",
       "    </tr>\n",
       "    <tr>\n",
       "      <th>3</th>\n",
       "      <td>-0.499392</td>\n",
       "      <td>0.227874</td>\n",
       "      <td>0.263023</td>\n",
       "      <td>0.239552</td>\n",
       "      <td>0.415440</td>\n",
       "      <td>-1.218072</td>\n",
       "      <td>0.143445</td>\n",
       "      <td>0.358317</td>\n",
       "      <td>-1.077761</td>\n",
       "      <td>0.754897</td>\n",
       "      <td>...</td>\n",
       "      <td>1.284349</td>\n",
       "      <td>0.529555</td>\n",
       "      <td>0.692113</td>\n",
       "      <td>-1.158578</td>\n",
       "      <td>0.793481</td>\n",
       "      <td>-1.142005</td>\n",
       "      <td>-0.349681</td>\n",
       "      <td>-0.085628</td>\n",
       "      <td>0.290318</td>\n",
       "      <td>5</td>\n",
       "    </tr>\n",
       "    <tr>\n",
       "      <th>4</th>\n",
       "      <td>-0.669231</td>\n",
       "      <td>-1.042412</td>\n",
       "      <td>-0.270981</td>\n",
       "      <td>-1.828762</td>\n",
       "      <td>-0.287349</td>\n",
       "      <td>-1.849431</td>\n",
       "      <td>0.785907</td>\n",
       "      <td>0.787634</td>\n",
       "      <td>0.228197</td>\n",
       "      <td>-0.439363</td>\n",
       "      <td>...</td>\n",
       "      <td>-0.431257</td>\n",
       "      <td>0.319224</td>\n",
       "      <td>0.220669</td>\n",
       "      <td>-1.409447</td>\n",
       "      <td>0.814366</td>\n",
       "      <td>-0.607709</td>\n",
       "      <td>1.067544</td>\n",
       "      <td>-0.345226</td>\n",
       "      <td>-1.123824</td>\n",
       "      <td>2</td>\n",
       "    </tr>\n",
       "    <tr>\n",
       "      <th>6</th>\n",
       "      <td>-0.095777</td>\n",
       "      <td>-0.249786</td>\n",
       "      <td>-0.641916</td>\n",
       "      <td>-0.525771</td>\n",
       "      <td>1.049296</td>\n",
       "      <td>0.258430</td>\n",
       "      <td>-2.143673</td>\n",
       "      <td>-0.842849</td>\n",
       "      <td>-1.077761</td>\n",
       "      <td>1.173044</td>\n",
       "      <td>...</td>\n",
       "      <td>-1.787243</td>\n",
       "      <td>0.635899</td>\n",
       "      <td>-0.475679</td>\n",
       "      <td>-1.183955</td>\n",
       "      <td>0.284791</td>\n",
       "      <td>-1.496388</td>\n",
       "      <td>0.413071</td>\n",
       "      <td>0.066660</td>\n",
       "      <td>1.044033</td>\n",
       "      <td>5</td>\n",
       "    </tr>\n",
       "  </tbody>\n",
       "</table>\n",
       "<p>5 rows × 30 columns</p>\n",
       "</div>"
      ],
      "text/plain": [
       "       f_00      f_01      f_02      f_03      f_04      f_05      f_06  \\\n",
       "0 -0.388215 -0.915648  0.648630  0.594704 -0.826335  0.733203  2.253873   \n",
       "1 -0.687159 -0.456494  0.653869  0.997119 -1.645988  0.862945 -0.086587   \n",
       "3 -0.499392  0.227874  0.263023  0.239552  0.415440 -1.218072  0.143445   \n",
       "4 -0.669231 -1.042412 -0.270981 -1.828762 -0.287349 -1.849431  0.785907   \n",
       "6 -0.095777 -0.249786 -0.641916 -0.525771  1.049296  0.258430 -2.143673   \n",
       "\n",
       "       f_07      f_08      f_09  ...      f_20      f_21      f_22      f_23  \\\n",
       "0 -0.842849  1.318969  0.866500  ... -0.753294 -0.760182 -0.666150  0.861539   \n",
       "1 -0.842849 -0.759039 -0.244528  ... -0.086670 -1.766854 -0.502101  0.427196   \n",
       "3  0.358317 -1.077761  0.754897  ...  1.284349  0.529555  0.692113 -1.158578   \n",
       "4  0.787634  0.228197 -0.439363  ... -0.431257  0.319224  0.220669 -1.409447   \n",
       "6 -0.842849 -1.077761  1.173044  ... -1.787243  0.635899 -0.475679 -1.183955   \n",
       "\n",
       "       f_24      f_25      f_26      f_27      f_28  Predicted  \n",
       "0 -0.671803  0.721293  0.882262  0.987938  0.639901          6  \n",
       "1  0.992526 -0.132519 -0.491353  0.354761 -1.577164          4  \n",
       "3  0.793481 -1.142005 -0.349681 -0.085628  0.290318          5  \n",
       "4  0.814366 -0.607709  1.067544 -0.345226 -1.123824          2  \n",
       "6  0.284791 -1.496388  0.413071  0.066660  1.044033          5  \n",
       "\n",
       "[5 rows x 30 columns]"
      ]
     },
     "execution_count": 199,
     "metadata": {},
     "output_type": "execute_result"
    }
   ],
   "source": [
    "train_df.head()"
   ]
  },
  {
   "cell_type": "code",
   "execution_count": 200,
   "id": "c48e6e8e",
   "metadata": {},
   "outputs": [
    {
     "data": {
      "text/plain": [
       "(56424, 30)"
      ]
     },
     "execution_count": 200,
     "metadata": {},
     "output_type": "execute_result"
    }
   ],
   "source": [
    "train_df.shape"
   ]
  },
  {
   "cell_type": "code",
   "execution_count": 201,
   "id": "52319e6a",
   "metadata": {},
   "outputs": [],
   "source": [
    "train_df_X = train_df.drop('Predicted',axis=1)"
   ]
  },
  {
   "cell_type": "code",
   "execution_count": 202,
   "id": "c032fd4e",
   "metadata": {},
   "outputs": [],
   "source": [
    "train_df_y = train_df['Predicted']"
   ]
  },
  {
   "cell_type": "code",
   "execution_count": 203,
   "id": "2080ce58",
   "metadata": {},
   "outputs": [
    {
     "data": {
      "text/html": [
       "<div>\n",
       "<style scoped>\n",
       "    .dataframe tbody tr th:only-of-type {\n",
       "        vertical-align: middle;\n",
       "    }\n",
       "\n",
       "    .dataframe tbody tr th {\n",
       "        vertical-align: top;\n",
       "    }\n",
       "\n",
       "    .dataframe thead th {\n",
       "        text-align: right;\n",
       "    }\n",
       "</style>\n",
       "<table border=\"1\" class=\"dataframe\">\n",
       "  <thead>\n",
       "    <tr style=\"text-align: right;\">\n",
       "      <th></th>\n",
       "      <th>f_00</th>\n",
       "      <th>f_01</th>\n",
       "      <th>f_02</th>\n",
       "      <th>f_03</th>\n",
       "      <th>f_04</th>\n",
       "      <th>f_05</th>\n",
       "      <th>f_06</th>\n",
       "      <th>f_07</th>\n",
       "      <th>f_08</th>\n",
       "      <th>f_09</th>\n",
       "      <th>...</th>\n",
       "      <th>f_19</th>\n",
       "      <th>f_20</th>\n",
       "      <th>f_21</th>\n",
       "      <th>f_22</th>\n",
       "      <th>f_23</th>\n",
       "      <th>f_24</th>\n",
       "      <th>f_25</th>\n",
       "      <th>f_26</th>\n",
       "      <th>f_27</th>\n",
       "      <th>f_28</th>\n",
       "    </tr>\n",
       "  </thead>\n",
       "  <tbody>\n",
       "    <tr>\n",
       "      <th>0</th>\n",
       "      <td>-0.388215</td>\n",
       "      <td>-0.915648</td>\n",
       "      <td>0.648630</td>\n",
       "      <td>0.594704</td>\n",
       "      <td>-0.826335</td>\n",
       "      <td>0.733203</td>\n",
       "      <td>2.253873</td>\n",
       "      <td>-0.842849</td>\n",
       "      <td>1.318969</td>\n",
       "      <td>0.866500</td>\n",
       "      <td>...</td>\n",
       "      <td>-0.472420</td>\n",
       "      <td>-0.753294</td>\n",
       "      <td>-0.760182</td>\n",
       "      <td>-0.666150</td>\n",
       "      <td>0.861539</td>\n",
       "      <td>-0.671803</td>\n",
       "      <td>0.721293</td>\n",
       "      <td>0.882262</td>\n",
       "      <td>0.987938</td>\n",
       "      <td>0.639901</td>\n",
       "    </tr>\n",
       "    <tr>\n",
       "      <th>1</th>\n",
       "      <td>-0.687159</td>\n",
       "      <td>-0.456494</td>\n",
       "      <td>0.653869</td>\n",
       "      <td>0.997119</td>\n",
       "      <td>-1.645988</td>\n",
       "      <td>0.862945</td>\n",
       "      <td>-0.086587</td>\n",
       "      <td>-0.842849</td>\n",
       "      <td>-0.759039</td>\n",
       "      <td>-0.244528</td>\n",
       "      <td>...</td>\n",
       "      <td>-0.423218</td>\n",
       "      <td>-0.086670</td>\n",
       "      <td>-1.766854</td>\n",
       "      <td>-0.502101</td>\n",
       "      <td>0.427196</td>\n",
       "      <td>0.992526</td>\n",
       "      <td>-0.132519</td>\n",
       "      <td>-0.491353</td>\n",
       "      <td>0.354761</td>\n",
       "      <td>-1.577164</td>\n",
       "    </tr>\n",
       "    <tr>\n",
       "      <th>3</th>\n",
       "      <td>-0.499392</td>\n",
       "      <td>0.227874</td>\n",
       "      <td>0.263023</td>\n",
       "      <td>0.239552</td>\n",
       "      <td>0.415440</td>\n",
       "      <td>-1.218072</td>\n",
       "      <td>0.143445</td>\n",
       "      <td>0.358317</td>\n",
       "      <td>-1.077761</td>\n",
       "      <td>0.754897</td>\n",
       "      <td>...</td>\n",
       "      <td>0.620321</td>\n",
       "      <td>1.284349</td>\n",
       "      <td>0.529555</td>\n",
       "      <td>0.692113</td>\n",
       "      <td>-1.158578</td>\n",
       "      <td>0.793481</td>\n",
       "      <td>-1.142005</td>\n",
       "      <td>-0.349681</td>\n",
       "      <td>-0.085628</td>\n",
       "      <td>0.290318</td>\n",
       "    </tr>\n",
       "    <tr>\n",
       "      <th>4</th>\n",
       "      <td>-0.669231</td>\n",
       "      <td>-1.042412</td>\n",
       "      <td>-0.270981</td>\n",
       "      <td>-1.828762</td>\n",
       "      <td>-0.287349</td>\n",
       "      <td>-1.849431</td>\n",
       "      <td>0.785907</td>\n",
       "      <td>0.787634</td>\n",
       "      <td>0.228197</td>\n",
       "      <td>-0.439363</td>\n",
       "      <td>...</td>\n",
       "      <td>-1.609618</td>\n",
       "      <td>-0.431257</td>\n",
       "      <td>0.319224</td>\n",
       "      <td>0.220669</td>\n",
       "      <td>-1.409447</td>\n",
       "      <td>0.814366</td>\n",
       "      <td>-0.607709</td>\n",
       "      <td>1.067544</td>\n",
       "      <td>-0.345226</td>\n",
       "      <td>-1.123824</td>\n",
       "    </tr>\n",
       "    <tr>\n",
       "      <th>6</th>\n",
       "      <td>-0.095777</td>\n",
       "      <td>-0.249786</td>\n",
       "      <td>-0.641916</td>\n",
       "      <td>-0.525771</td>\n",
       "      <td>1.049296</td>\n",
       "      <td>0.258430</td>\n",
       "      <td>-2.143673</td>\n",
       "      <td>-0.842849</td>\n",
       "      <td>-1.077761</td>\n",
       "      <td>1.173044</td>\n",
       "      <td>...</td>\n",
       "      <td>1.297683</td>\n",
       "      <td>-1.787243</td>\n",
       "      <td>0.635899</td>\n",
       "      <td>-0.475679</td>\n",
       "      <td>-1.183955</td>\n",
       "      <td>0.284791</td>\n",
       "      <td>-1.496388</td>\n",
       "      <td>0.413071</td>\n",
       "      <td>0.066660</td>\n",
       "      <td>1.044033</td>\n",
       "    </tr>\n",
       "  </tbody>\n",
       "</table>\n",
       "<p>5 rows × 29 columns</p>\n",
       "</div>"
      ],
      "text/plain": [
       "       f_00      f_01      f_02      f_03      f_04      f_05      f_06  \\\n",
       "0 -0.388215 -0.915648  0.648630  0.594704 -0.826335  0.733203  2.253873   \n",
       "1 -0.687159 -0.456494  0.653869  0.997119 -1.645988  0.862945 -0.086587   \n",
       "3 -0.499392  0.227874  0.263023  0.239552  0.415440 -1.218072  0.143445   \n",
       "4 -0.669231 -1.042412 -0.270981 -1.828762 -0.287349 -1.849431  0.785907   \n",
       "6 -0.095777 -0.249786 -0.641916 -0.525771  1.049296  0.258430 -2.143673   \n",
       "\n",
       "       f_07      f_08      f_09  ...      f_19      f_20      f_21      f_22  \\\n",
       "0 -0.842849  1.318969  0.866500  ... -0.472420 -0.753294 -0.760182 -0.666150   \n",
       "1 -0.842849 -0.759039 -0.244528  ... -0.423218 -0.086670 -1.766854 -0.502101   \n",
       "3  0.358317 -1.077761  0.754897  ...  0.620321  1.284349  0.529555  0.692113   \n",
       "4  0.787634  0.228197 -0.439363  ... -1.609618 -0.431257  0.319224  0.220669   \n",
       "6 -0.842849 -1.077761  1.173044  ...  1.297683 -1.787243  0.635899 -0.475679   \n",
       "\n",
       "       f_23      f_24      f_25      f_26      f_27      f_28  \n",
       "0  0.861539 -0.671803  0.721293  0.882262  0.987938  0.639901  \n",
       "1  0.427196  0.992526 -0.132519 -0.491353  0.354761 -1.577164  \n",
       "3 -1.158578  0.793481 -1.142005 -0.349681 -0.085628  0.290318  \n",
       "4 -1.409447  0.814366 -0.607709  1.067544 -0.345226 -1.123824  \n",
       "6 -1.183955  0.284791 -1.496388  0.413071  0.066660  1.044033  \n",
       "\n",
       "[5 rows x 29 columns]"
      ]
     },
     "execution_count": 203,
     "metadata": {},
     "output_type": "execute_result"
    }
   ],
   "source": [
    "train_df_X.head()"
   ]
  },
  {
   "cell_type": "markdown",
   "id": "7b7fb476",
   "metadata": {},
   "source": [
    "### Feature selection on train_df"
   ]
  },
  {
   "cell_type": "code",
   "execution_count": 204,
   "id": "eb7bee80",
   "metadata": {},
   "outputs": [
    {
     "data": {
      "text/plain": [
       "['f_07',\n",
       " 'f_08',\n",
       " 'f_09',\n",
       " 'f_10',\n",
       " 'f_11',\n",
       " 'f_12',\n",
       " 'f_13',\n",
       " 'f_22',\n",
       " 'f_23',\n",
       " 'f_24',\n",
       " 'f_25',\n",
       " 'f_26',\n",
       " 'f_27',\n",
       " 'f_28']"
      ]
     },
     "execution_count": 204,
     "metadata": {},
     "output_type": "execute_result"
    }
   ],
   "source": [
    "sel_feature"
   ]
  },
  {
   "cell_type": "code",
   "execution_count": 205,
   "id": "7de87edc",
   "metadata": {},
   "outputs": [
    {
     "data": {
      "text/html": [
       "<div>\n",
       "<style scoped>\n",
       "    .dataframe tbody tr th:only-of-type {\n",
       "        vertical-align: middle;\n",
       "    }\n",
       "\n",
       "    .dataframe tbody tr th {\n",
       "        vertical-align: top;\n",
       "    }\n",
       "\n",
       "    .dataframe thead th {\n",
       "        text-align: right;\n",
       "    }\n",
       "</style>\n",
       "<table border=\"1\" class=\"dataframe\">\n",
       "  <thead>\n",
       "    <tr style=\"text-align: right;\">\n",
       "      <th></th>\n",
       "      <th>f_07</th>\n",
       "      <th>f_08</th>\n",
       "      <th>f_09</th>\n",
       "      <th>f_10</th>\n",
       "      <th>f_11</th>\n",
       "      <th>f_12</th>\n",
       "      <th>f_13</th>\n",
       "      <th>f_22</th>\n",
       "      <th>f_23</th>\n",
       "      <th>f_24</th>\n",
       "      <th>f_25</th>\n",
       "      <th>f_26</th>\n",
       "      <th>f_27</th>\n",
       "      <th>f_28</th>\n",
       "    </tr>\n",
       "  </thead>\n",
       "  <tbody>\n",
       "    <tr>\n",
       "      <th>0</th>\n",
       "      <td>-0.842849</td>\n",
       "      <td>1.318969</td>\n",
       "      <td>0.866500</td>\n",
       "      <td>-0.623433</td>\n",
       "      <td>1.079639</td>\n",
       "      <td>0.021827</td>\n",
       "      <td>0.260871</td>\n",
       "      <td>-0.666150</td>\n",
       "      <td>0.861539</td>\n",
       "      <td>-0.671803</td>\n",
       "      <td>0.721293</td>\n",
       "      <td>0.882262</td>\n",
       "      <td>0.987938</td>\n",
       "      <td>0.639901</td>\n",
       "    </tr>\n",
       "    <tr>\n",
       "      <th>1</th>\n",
       "      <td>-0.842849</td>\n",
       "      <td>-0.759039</td>\n",
       "      <td>-0.244528</td>\n",
       "      <td>-0.874275</td>\n",
       "      <td>-0.366686</td>\n",
       "      <td>1.607648</td>\n",
       "      <td>0.862796</td>\n",
       "      <td>-0.502101</td>\n",
       "      <td>0.427196</td>\n",
       "      <td>0.992526</td>\n",
       "      <td>-0.132519</td>\n",
       "      <td>-0.491353</td>\n",
       "      <td>0.354761</td>\n",
       "      <td>-1.577164</td>\n",
       "    </tr>\n",
       "    <tr>\n",
       "      <th>3</th>\n",
       "      <td>0.358317</td>\n",
       "      <td>-1.077761</td>\n",
       "      <td>0.754897</td>\n",
       "      <td>0.025642</td>\n",
       "      <td>0.300492</td>\n",
       "      <td>0.021827</td>\n",
       "      <td>-0.237988</td>\n",
       "      <td>0.692113</td>\n",
       "      <td>-1.158578</td>\n",
       "      <td>0.793481</td>\n",
       "      <td>-1.142005</td>\n",
       "      <td>-0.349681</td>\n",
       "      <td>-0.085628</td>\n",
       "      <td>0.290318</td>\n",
       "    </tr>\n",
       "    <tr>\n",
       "      <th>4</th>\n",
       "      <td>0.787634</td>\n",
       "      <td>0.228197</td>\n",
       "      <td>-0.439363</td>\n",
       "      <td>-1.151146</td>\n",
       "      <td>-1.826293</td>\n",
       "      <td>1.221109</td>\n",
       "      <td>1.202873</td>\n",
       "      <td>0.220669</td>\n",
       "      <td>-1.409447</td>\n",
       "      <td>0.814366</td>\n",
       "      <td>-0.607709</td>\n",
       "      <td>1.067544</td>\n",
       "      <td>-0.345226</td>\n",
       "      <td>-1.123824</td>\n",
       "    </tr>\n",
       "    <tr>\n",
       "      <th>6</th>\n",
       "      <td>-0.842849</td>\n",
       "      <td>-1.077761</td>\n",
       "      <td>1.173044</td>\n",
       "      <td>0.904001</td>\n",
       "      <td>-0.612618</td>\n",
       "      <td>-0.769699</td>\n",
       "      <td>-1.921216</td>\n",
       "      <td>-0.475679</td>\n",
       "      <td>-1.183955</td>\n",
       "      <td>0.284791</td>\n",
       "      <td>-1.496388</td>\n",
       "      <td>0.413071</td>\n",
       "      <td>0.066660</td>\n",
       "      <td>1.044033</td>\n",
       "    </tr>\n",
       "  </tbody>\n",
       "</table>\n",
       "</div>"
      ],
      "text/plain": [
       "       f_07      f_08      f_09      f_10      f_11      f_12      f_13  \\\n",
       "0 -0.842849  1.318969  0.866500 -0.623433  1.079639  0.021827  0.260871   \n",
       "1 -0.842849 -0.759039 -0.244528 -0.874275 -0.366686  1.607648  0.862796   \n",
       "3  0.358317 -1.077761  0.754897  0.025642  0.300492  0.021827 -0.237988   \n",
       "4  0.787634  0.228197 -0.439363 -1.151146 -1.826293  1.221109  1.202873   \n",
       "6 -0.842849 -1.077761  1.173044  0.904001 -0.612618 -0.769699 -1.921216   \n",
       "\n",
       "       f_22      f_23      f_24      f_25      f_26      f_27      f_28  \n",
       "0 -0.666150  0.861539 -0.671803  0.721293  0.882262  0.987938  0.639901  \n",
       "1 -0.502101  0.427196  0.992526 -0.132519 -0.491353  0.354761 -1.577164  \n",
       "3  0.692113 -1.158578  0.793481 -1.142005 -0.349681 -0.085628  0.290318  \n",
       "4  0.220669 -1.409447  0.814366 -0.607709  1.067544 -0.345226 -1.123824  \n",
       "6 -0.475679 -1.183955  0.284791 -1.496388  0.413071  0.066660  1.044033  "
      ]
     },
     "execution_count": 205,
     "metadata": {},
     "output_type": "execute_result"
    }
   ],
   "source": [
    "train_df_X = train_df_X[sel_feature]\n",
    "train_df_X.head()"
   ]
  },
  {
   "cell_type": "markdown",
   "id": "4d6b0a0b",
   "metadata": {},
   "source": [
    "### feature engineering on test_df"
   ]
  },
  {
   "cell_type": "code",
   "execution_count": 206,
   "id": "9f720fe0",
   "metadata": {},
   "outputs": [
    {
     "data": {
      "text/plain": [
       "(98000, 29)"
      ]
     },
     "execution_count": 206,
     "metadata": {},
     "output_type": "execute_result"
    }
   ],
   "source": [
    "test_df.shape"
   ]
  },
  {
   "cell_type": "code",
   "execution_count": 207,
   "id": "95142611",
   "metadata": {},
   "outputs": [],
   "source": [
    "test_df[num_feature] = pow_scaler.transform(test_df[num_feature])"
   ]
  },
  {
   "cell_type": "code",
   "execution_count": 208,
   "id": "ea62cd6b",
   "metadata": {},
   "outputs": [
    {
     "data": {
      "text/html": [
       "<div>\n",
       "<style scoped>\n",
       "    .dataframe tbody tr th:only-of-type {\n",
       "        vertical-align: middle;\n",
       "    }\n",
       "\n",
       "    .dataframe tbody tr th {\n",
       "        vertical-align: top;\n",
       "    }\n",
       "\n",
       "    .dataframe thead th {\n",
       "        text-align: right;\n",
       "    }\n",
       "</style>\n",
       "<table border=\"1\" class=\"dataframe\">\n",
       "  <thead>\n",
       "    <tr style=\"text-align: right;\">\n",
       "      <th></th>\n",
       "      <th>f_00</th>\n",
       "      <th>f_01</th>\n",
       "      <th>f_02</th>\n",
       "      <th>f_03</th>\n",
       "      <th>f_04</th>\n",
       "      <th>f_05</th>\n",
       "      <th>f_06</th>\n",
       "      <th>f_07</th>\n",
       "      <th>f_08</th>\n",
       "      <th>f_09</th>\n",
       "      <th>...</th>\n",
       "      <th>f_19</th>\n",
       "      <th>f_20</th>\n",
       "      <th>f_21</th>\n",
       "      <th>f_22</th>\n",
       "      <th>f_23</th>\n",
       "      <th>f_24</th>\n",
       "      <th>f_25</th>\n",
       "      <th>f_26</th>\n",
       "      <th>f_27</th>\n",
       "      <th>f_28</th>\n",
       "    </tr>\n",
       "  </thead>\n",
       "  <tbody>\n",
       "    <tr>\n",
       "      <th>0</th>\n",
       "      <td>-0.388215</td>\n",
       "      <td>-0.915648</td>\n",
       "      <td>0.648630</td>\n",
       "      <td>0.594704</td>\n",
       "      <td>-0.826335</td>\n",
       "      <td>0.733203</td>\n",
       "      <td>2.253873</td>\n",
       "      <td>-0.842849</td>\n",
       "      <td>1.318969</td>\n",
       "      <td>0.866500</td>\n",
       "      <td>...</td>\n",
       "      <td>-0.472420</td>\n",
       "      <td>-0.753294</td>\n",
       "      <td>-0.760182</td>\n",
       "      <td>-0.666150</td>\n",
       "      <td>0.861539</td>\n",
       "      <td>-0.671803</td>\n",
       "      <td>0.721293</td>\n",
       "      <td>0.882262</td>\n",
       "      <td>0.987938</td>\n",
       "      <td>0.639901</td>\n",
       "    </tr>\n",
       "    <tr>\n",
       "      <th>1</th>\n",
       "      <td>-0.687159</td>\n",
       "      <td>-0.456494</td>\n",
       "      <td>0.653869</td>\n",
       "      <td>0.997119</td>\n",
       "      <td>-1.645988</td>\n",
       "      <td>0.862945</td>\n",
       "      <td>-0.086587</td>\n",
       "      <td>-0.842849</td>\n",
       "      <td>-0.759039</td>\n",
       "      <td>-0.244528</td>\n",
       "      <td>...</td>\n",
       "      <td>-0.423218</td>\n",
       "      <td>-0.086670</td>\n",
       "      <td>-1.766854</td>\n",
       "      <td>-0.502101</td>\n",
       "      <td>0.427196</td>\n",
       "      <td>0.992526</td>\n",
       "      <td>-0.132519</td>\n",
       "      <td>-0.491353</td>\n",
       "      <td>0.354761</td>\n",
       "      <td>-1.577164</td>\n",
       "    </tr>\n",
       "    <tr>\n",
       "      <th>2</th>\n",
       "      <td>0.806981</td>\n",
       "      <td>0.323685</td>\n",
       "      <td>-1.167870</td>\n",
       "      <td>-0.615623</td>\n",
       "      <td>0.106913</td>\n",
       "      <td>0.783357</td>\n",
       "      <td>1.985775</td>\n",
       "      <td>0.112842</td>\n",
       "      <td>0.987222</td>\n",
       "      <td>-0.439363</td>\n",
       "      <td>...</td>\n",
       "      <td>-0.408087</td>\n",
       "      <td>-1.600008</td>\n",
       "      <td>1.189720</td>\n",
       "      <td>2.058482</td>\n",
       "      <td>0.079113</td>\n",
       "      <td>-1.492739</td>\n",
       "      <td>-0.564421</td>\n",
       "      <td>0.899114</td>\n",
       "      <td>-0.869965</td>\n",
       "      <td>-2.204705</td>\n",
       "    </tr>\n",
       "    <tr>\n",
       "      <th>3</th>\n",
       "      <td>-0.499392</td>\n",
       "      <td>0.227874</td>\n",
       "      <td>0.263023</td>\n",
       "      <td>0.239552</td>\n",
       "      <td>0.415440</td>\n",
       "      <td>-1.218072</td>\n",
       "      <td>0.143445</td>\n",
       "      <td>0.358317</td>\n",
       "      <td>-1.077761</td>\n",
       "      <td>0.754897</td>\n",
       "      <td>...</td>\n",
       "      <td>0.620321</td>\n",
       "      <td>1.284349</td>\n",
       "      <td>0.529555</td>\n",
       "      <td>0.692113</td>\n",
       "      <td>-1.158578</td>\n",
       "      <td>0.793481</td>\n",
       "      <td>-1.142005</td>\n",
       "      <td>-0.349681</td>\n",
       "      <td>-0.085628</td>\n",
       "      <td>0.290318</td>\n",
       "    </tr>\n",
       "    <tr>\n",
       "      <th>4</th>\n",
       "      <td>-0.669231</td>\n",
       "      <td>-1.042412</td>\n",
       "      <td>-0.270981</td>\n",
       "      <td>-1.828762</td>\n",
       "      <td>-0.287349</td>\n",
       "      <td>-1.849431</td>\n",
       "      <td>0.785907</td>\n",
       "      <td>0.787634</td>\n",
       "      <td>0.228197</td>\n",
       "      <td>-0.439363</td>\n",
       "      <td>...</td>\n",
       "      <td>-1.609618</td>\n",
       "      <td>-0.431257</td>\n",
       "      <td>0.319224</td>\n",
       "      <td>0.220669</td>\n",
       "      <td>-1.409447</td>\n",
       "      <td>0.814366</td>\n",
       "      <td>-0.607709</td>\n",
       "      <td>1.067544</td>\n",
       "      <td>-0.345226</td>\n",
       "      <td>-1.123824</td>\n",
       "    </tr>\n",
       "  </tbody>\n",
       "</table>\n",
       "<p>5 rows × 29 columns</p>\n",
       "</div>"
      ],
      "text/plain": [
       "       f_00      f_01      f_02      f_03      f_04      f_05      f_06  \\\n",
       "0 -0.388215 -0.915648  0.648630  0.594704 -0.826335  0.733203  2.253873   \n",
       "1 -0.687159 -0.456494  0.653869  0.997119 -1.645988  0.862945 -0.086587   \n",
       "2  0.806981  0.323685 -1.167870 -0.615623  0.106913  0.783357  1.985775   \n",
       "3 -0.499392  0.227874  0.263023  0.239552  0.415440 -1.218072  0.143445   \n",
       "4 -0.669231 -1.042412 -0.270981 -1.828762 -0.287349 -1.849431  0.785907   \n",
       "\n",
       "       f_07      f_08      f_09  ...      f_19      f_20      f_21      f_22  \\\n",
       "0 -0.842849  1.318969  0.866500  ... -0.472420 -0.753294 -0.760182 -0.666150   \n",
       "1 -0.842849 -0.759039 -0.244528  ... -0.423218 -0.086670 -1.766854 -0.502101   \n",
       "2  0.112842  0.987222 -0.439363  ... -0.408087 -1.600008  1.189720  2.058482   \n",
       "3  0.358317 -1.077761  0.754897  ...  0.620321  1.284349  0.529555  0.692113   \n",
       "4  0.787634  0.228197 -0.439363  ... -1.609618 -0.431257  0.319224  0.220669   \n",
       "\n",
       "       f_23      f_24      f_25      f_26      f_27      f_28  \n",
       "0  0.861539 -0.671803  0.721293  0.882262  0.987938  0.639901  \n",
       "1  0.427196  0.992526 -0.132519 -0.491353  0.354761 -1.577164  \n",
       "2  0.079113 -1.492739 -0.564421  0.899114 -0.869965 -2.204705  \n",
       "3 -1.158578  0.793481 -1.142005 -0.349681 -0.085628  0.290318  \n",
       "4 -1.409447  0.814366 -0.607709  1.067544 -0.345226 -1.123824  \n",
       "\n",
       "[5 rows x 29 columns]"
      ]
     },
     "execution_count": 208,
     "metadata": {},
     "output_type": "execute_result"
    }
   ],
   "source": [
    "test_df.head()"
   ]
  },
  {
   "cell_type": "code",
   "execution_count": 209,
   "id": "a84d7a07",
   "metadata": {},
   "outputs": [],
   "source": [
    "test_df = test_df[sel_feature]"
   ]
  },
  {
   "cell_type": "code",
   "execution_count": 210,
   "id": "38593f50",
   "metadata": {},
   "outputs": [
    {
     "data": {
      "text/plain": [
       "(98000, 14)"
      ]
     },
     "execution_count": 210,
     "metadata": {},
     "output_type": "execute_result"
    }
   ],
   "source": [
    "test_df.shape"
   ]
  },
  {
   "cell_type": "markdown",
   "id": "591e2ecb",
   "metadata": {},
   "source": [
    "# BGMM Classification"
   ]
  },
  {
   "cell_type": "code",
   "execution_count": 211,
   "id": "3bcadf1e",
   "metadata": {},
   "outputs": [],
   "source": [
    "from sklego.mixture import BayesianGMMClassifier"
   ]
  },
  {
   "cell_type": "code",
   "execution_count": 212,
   "id": "69c5cff7",
   "metadata": {},
   "outputs": [],
   "source": [
    "model = BayesianGMMClassifier(n_components=7,max_iter=400,n_init=4)"
   ]
  },
  {
   "cell_type": "code",
   "execution_count": 213,
   "id": "982dc4f0",
   "metadata": {},
   "outputs": [
    {
     "data": {
      "text/plain": [
       "BayesianGMMClassifier(max_iter=400, n_components=7, n_init=4)"
      ]
     },
     "execution_count": 213,
     "metadata": {},
     "output_type": "execute_result"
    }
   ],
   "source": [
    "model.fit(train_df_X,train_df_y)"
   ]
  },
  {
   "cell_type": "code",
   "execution_count": 214,
   "id": "7ee47a36",
   "metadata": {},
   "outputs": [],
   "source": [
    "pred = model.predict(test_df)"
   ]
  },
  {
   "cell_type": "code",
   "execution_count": 215,
   "id": "80b02854",
   "metadata": {
    "scrolled": true
   },
   "outputs": [
    {
     "data": {
      "text/plain": [
       "98000"
      ]
     },
     "execution_count": 215,
     "metadata": {},
     "output_type": "execute_result"
    }
   ],
   "source": [
    "len(pred)"
   ]
  },
  {
   "cell_type": "code",
   "execution_count": 216,
   "id": "7524e2d7",
   "metadata": {
    "scrolled": true
   },
   "outputs": [
    {
     "data": {
      "text/plain": [
       "0    0\n",
       "1    1\n",
       "2    2\n",
       "3    3\n",
       "4    4\n",
       "Name: id, dtype: int64"
      ]
     },
     "execution_count": 216,
     "metadata": {},
     "output_type": "execute_result"
    }
   ],
   "source": [
    "test_df_id.head()"
   ]
  },
  {
   "cell_type": "code",
   "execution_count": 217,
   "id": "53893d94",
   "metadata": {},
   "outputs": [],
   "source": [
    "pred = pd.DataFrame(pred,columns=['Predicted'])"
   ]
  },
  {
   "cell_type": "code",
   "execution_count": 218,
   "id": "2ca3b608",
   "metadata": {},
   "outputs": [],
   "source": [
    "submission = pd.concat([test_df_id,pred],axis=1)"
   ]
  },
  {
   "cell_type": "code",
   "execution_count": 219,
   "id": "e37d9865",
   "metadata": {},
   "outputs": [
    {
     "data": {
      "text/html": [
       "<div>\n",
       "<style scoped>\n",
       "    .dataframe tbody tr th:only-of-type {\n",
       "        vertical-align: middle;\n",
       "    }\n",
       "\n",
       "    .dataframe tbody tr th {\n",
       "        vertical-align: top;\n",
       "    }\n",
       "\n",
       "    .dataframe thead th {\n",
       "        text-align: right;\n",
       "    }\n",
       "</style>\n",
       "<table border=\"1\" class=\"dataframe\">\n",
       "  <thead>\n",
       "    <tr style=\"text-align: right;\">\n",
       "      <th></th>\n",
       "      <th>id</th>\n",
       "      <th>Predicted</th>\n",
       "    </tr>\n",
       "  </thead>\n",
       "  <tbody>\n",
       "    <tr>\n",
       "      <th>0</th>\n",
       "      <td>0</td>\n",
       "      <td>6</td>\n",
       "    </tr>\n",
       "    <tr>\n",
       "      <th>1</th>\n",
       "      <td>1</td>\n",
       "      <td>4</td>\n",
       "    </tr>\n",
       "    <tr>\n",
       "      <th>2</th>\n",
       "      <td>2</td>\n",
       "      <td>3</td>\n",
       "    </tr>\n",
       "    <tr>\n",
       "      <th>3</th>\n",
       "      <td>3</td>\n",
       "      <td>5</td>\n",
       "    </tr>\n",
       "    <tr>\n",
       "      <th>4</th>\n",
       "      <td>4</td>\n",
       "      <td>2</td>\n",
       "    </tr>\n",
       "    <tr>\n",
       "      <th>...</th>\n",
       "      <td>...</td>\n",
       "      <td>...</td>\n",
       "    </tr>\n",
       "    <tr>\n",
       "      <th>97995</th>\n",
       "      <td>97995</td>\n",
       "      <td>4</td>\n",
       "    </tr>\n",
       "    <tr>\n",
       "      <th>97996</th>\n",
       "      <td>97996</td>\n",
       "      <td>1</td>\n",
       "    </tr>\n",
       "    <tr>\n",
       "      <th>97997</th>\n",
       "      <td>97997</td>\n",
       "      <td>3</td>\n",
       "    </tr>\n",
       "    <tr>\n",
       "      <th>97998</th>\n",
       "      <td>97998</td>\n",
       "      <td>0</td>\n",
       "    </tr>\n",
       "    <tr>\n",
       "      <th>97999</th>\n",
       "      <td>97999</td>\n",
       "      <td>1</td>\n",
       "    </tr>\n",
       "  </tbody>\n",
       "</table>\n",
       "<p>98000 rows × 2 columns</p>\n",
       "</div>"
      ],
      "text/plain": [
       "          id  Predicted\n",
       "0          0          6\n",
       "1          1          4\n",
       "2          2          3\n",
       "3          3          5\n",
       "4          4          2\n",
       "...      ...        ...\n",
       "97995  97995          4\n",
       "97996  97996          1\n",
       "97997  97997          3\n",
       "97998  97998          0\n",
       "97999  97999          1\n",
       "\n",
       "[98000 rows x 2 columns]"
      ]
     },
     "execution_count": 219,
     "metadata": {},
     "output_type": "execute_result"
    }
   ],
   "source": [
    "submission"
   ]
  },
  {
   "cell_type": "code",
   "execution_count": 220,
   "id": "bacb175f",
   "metadata": {},
   "outputs": [],
   "source": [
    "submission.to_csv('submission_BGMM.csv',index=False)"
   ]
  },
  {
   "cell_type": "code",
   "execution_count": null,
   "id": "89c41a5d",
   "metadata": {},
   "outputs": [],
   "source": []
  },
  {
   "cell_type": "code",
   "execution_count": 221,
   "id": "6dcd5824",
   "metadata": {},
   "outputs": [
    {
     "data": {
      "text/plain": [
       "<AxesSubplot:xlabel='Predicted', ylabel='count'>"
      ]
     },
     "execution_count": 221,
     "metadata": {},
     "output_type": "execute_result"
    },
    {
     "data": {
      "image/png": "[encoded data removed]",
      "text/plain": [
       "<Figure size 864x648 with 1 Axes>"
      ]
     },
     "metadata": {},
     "output_type": "display_data"
    }
   ],
   "source": [
    "plt.figure(figsize=(12,9))\n",
    "sns.countplot(x='Predicted',data=pred)"
   ]
  },
  {
   "cell_type": "code",
   "execution_count": null,
   "id": "612db338",
   "metadata": {},
   "outputs": [],
   "source": []
  }
 ],
 "metadata": {
  "kernelspec": {
   "display_name": "Python 3 (ipykernel)",
   "language": "python",
   "name": "python3"
  },
  "language_info": {
   "codemirror_mode": {
    "name": "ipython",
    "version": 3
   },
   "file_extension": ".py",
   "mimetype": "text/x-python",
   "name": "python",
   "nbconvert_exporter": "python",
   "pygments_lexer": "ipython3",
   "version": "3.9.12"
  }
 },
 "nbformat": 4,
 "nbformat_minor": 5
}
